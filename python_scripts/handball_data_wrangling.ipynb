{
 "cells": [
  {
   "cell_type": "code",
   "execution_count": 2,
   "metadata": {},
   "outputs": [],
   "source": [
    "import pandas as pd\n",
    "import random"
   ]
  },
  {
   "cell_type": "markdown",
   "metadata": {},
   "source": [
    "# DATA"
   ]
  },
  {
   "cell_type": "code",
   "execution_count": 3,
   "metadata": {},
   "outputs": [],
   "source": [
    "data_players = pd.read_csv(\"./data_players_v2.csv\")\n",
    "data_clubs = pd.read_csv(\"./data_clubs.csv\")\n",
    "data_arenas = pd.read_csv(\"./data_arenas.csv\")"
   ]
  },
  {
   "attachments": {},
   "cell_type": "markdown",
   "metadata": {},
   "source": [
    "# PROCESSING"
   ]
  },
  {
   "attachments": {},
   "cell_type": "markdown",
   "metadata": {},
   "source": [
    "## POSICION"
   ]
  },
  {
   "cell_type": "code",
   "execution_count": 4,
   "metadata": {},
   "outputs": [
    {
     "name": "stdout",
     "output_type": "stream",
     "text": [
      "['Back', 'Centre Back', 'Goalkeeper', 'Left Back', 'Left Wing', 'Line Player', 'No Position', 'Right Back', 'Right Wing', 'Wing']\n"
     ]
    }
   ],
   "source": [
    "lista_posiciones = data_players.position.unique()\n",
    "lista_posiciones = [value.replace(\", No Position.\", \"\") for value in lista_posiciones]\n",
    "lista_posiciones = [value.replace(\".\", \"\") for value in lista_posiciones]\n",
    "lista_posiciones = sorted(list(set(lista_posiciones)))\n",
    "print(lista_posiciones)"
   ]
  },
  {
   "cell_type": "code",
   "execution_count": 5,
   "metadata": {},
   "outputs": [
    {
     "name": "stdout",
     "output_type": "stream",
     "text": [
      "INSERT INTO posicion (posicion)\n",
      "VALUES\n",
      "(\"Back\"),\n",
      "(\"Centre Back\"),\n",
      "(\"Goalkeeper\"),\n",
      "(\"Left Back\"),\n",
      "(\"Left Wing\"),\n",
      "(\"Line Player\"),\n",
      "(\"No Position\"),\n",
      "(\"Right Back\"),\n",
      "(\"Right Wing\"),\n",
      "(\"Wing\");\n"
     ]
    }
   ],
   "source": [
    "print (\"INSERT INTO posicion (posicion)\")\n",
    "print(\"VALUES\")\n",
    "for i in lista_posiciones:\n",
    "    if i != lista_posiciones[-1]:\n",
    "        print('(\"{}\"),'.format(i))\n",
    "    else:\n",
    "        print('(\"{}\");'.format(i))"
   ]
  },
  {
   "cell_type": "code",
   "execution_count": 6,
   "metadata": {},
   "outputs": [
    {
     "name": "stdout",
     "output_type": "stream",
     "text": [
      "{'Back': 1, 'Centre Back': 2, 'Goalkeeper': 3, 'Left Back': 4, 'Left Wing': 5, 'Line Player': 6, 'No Position': 7, 'Right Back': 8, 'Right Wing': 9, 'Wing': 10}\n"
     ]
    }
   ],
   "source": [
    "dict_posiciones = {}\n",
    "for index, value in enumerate(lista_posiciones):\n",
    "    dict_posiciones[value] = index+1\n",
    "print(dict_posiciones)"
   ]
  },
  {
   "attachments": {},
   "cell_type": "markdown",
   "metadata": {},
   "source": [
    "## ESTADO_ACTIVIDAD"
   ]
  },
  {
   "cell_type": "code",
   "execution_count": 7,
   "metadata": {},
   "outputs": [
    {
     "name": "stdout",
     "output_type": "stream",
     "text": [
      "['active' 'retired']\n"
     ]
    }
   ],
   "source": [
    "lista_estado = data_players.status.unique()\n",
    "print(lista_estado)"
   ]
  },
  {
   "cell_type": "code",
   "execution_count": 8,
   "metadata": {},
   "outputs": [
    {
     "name": "stdout",
     "output_type": "stream",
     "text": [
      "INSERT INTO estado_actividad (estado)\n",
      "VALUES\n",
      "(\"active\"),\n",
      "(\"retired\");\n"
     ]
    }
   ],
   "source": [
    "print (\"INSERT INTO estado_actividad (estado)\")\n",
    "print(\"VALUES\")\n",
    "for i in lista_estado:\n",
    "    if i != lista_estado[-1]:\n",
    "        print('(\"{}\"),'.format(i))\n",
    "    else:\n",
    "        print('(\"{}\");'.format(i))"
   ]
  },
  {
   "cell_type": "code",
   "execution_count": 9,
   "metadata": {},
   "outputs": [
    {
     "name": "stdout",
     "output_type": "stream",
     "text": [
      "{'active': 1, 'retired': 2}\n"
     ]
    }
   ],
   "source": [
    "dict_estado = {}\n",
    "for index, value in enumerate(lista_estado):\n",
    "    dict_estado[value] = index+1\n",
    "print(dict_estado)"
   ]
  },
  {
   "attachments": {},
   "cell_type": "markdown",
   "metadata": {},
   "source": [
    "## PAISES"
   ]
  },
  {
   "cell_type": "code",
   "execution_count": 10,
   "metadata": {},
   "outputs": [
    {
     "name": "stdout",
     "output_type": "stream",
     "text": [
      "['Albania', 'Algeria', 'Angola', 'Argentina', 'Australia', 'Austria', 'Azerbaidjan', 'Bahrain', 'Belarus', 'Belgium', 'Bosnia-Herzegovina', 'Brazil', 'Bulgaria', 'Cameroon', 'Chile', 'China', 'Colombia', 'Croatia', 'Cuba', 'Cyprus', 'Czech Republic', 'Denmark', 'Dominican Republic', 'Ecuador', 'Egypt', 'England', 'Estonia', 'Faroe Islands', 'Finland', 'France', 'Gabon', 'Georgia', 'Germany', 'Greece', 'Hungary', 'Iceland', 'India', 'Iran', 'Israel', 'Italy', 'Japan', 'Kazakhstan', 'Kuwait', 'Latvia', 'Lithuania', 'Luxembourg', 'Macedonia', 'Malta', 'Moldova', 'Montenegro', 'Morocco', 'Netherlands', 'Nigeria', 'Norway', 'Poland', 'Portugal', 'Qatar', 'Romania', 'Russia', 'Saudi Arabia', 'Scotland', 'Serbia', 'Singapore', 'Slovakia', 'Slovenia', 'South Korea', 'Spain', 'Sweden', 'Switzerland', 'Tunisia', 'Turkey', 'USA', 'Ukraine', 'United Arab Emirates']\n"
     ]
    }
   ],
   "source": [
    "lista_paises = list(data_players.loc[data_players.nationality.notnull(), 'nationality'].unique())\n",
    "lista_paises += list(data_players.loc[data_players.country.notnull(), 'country'].unique())\n",
    "lista_paises += list(data_clubs.loc[data_clubs.country.notnull(), 'country'].unique())\n",
    "lista_paises += list(data_arenas.loc[data_arenas.country.notnull(), 'country'].unique())\n",
    "lista_paises = sorted(list(set(lista_paises)))\n",
    "lista_paises = [(value) for value in lista_paises]\n",
    "print(lista_paises)"
   ]
  },
  {
   "cell_type": "code",
   "execution_count": 11,
   "metadata": {},
   "outputs": [
    {
     "name": "stdout",
     "output_type": "stream",
     "text": [
      "INSERT INTO paises (pais)\n",
      "VALUES\n",
      "(\"Albania\"),(\"Algeria\"),(\"Angola\"),(\"Argentina\"),(\"Australia\"),(\"Austria\"),(\"Azerbaidjan\"),(\"Bahrain\"),(\"Belarus\"),(\"Belgium\"),(\"Bosnia-Herzegovina\"),(\"Brazil\"),(\"Bulgaria\"),(\"Cameroon\"),(\"Chile\"),(\"China\"),(\"Colombia\"),(\"Croatia\"),(\"Cuba\"),(\"Cyprus\"),(\"Czech Republic\"),(\"Denmark\"),(\"Dominican Republic\"),(\"Ecuador\"),(\"Egypt\"),(\"England\"),(\"Estonia\"),(\"Faroe Islands\"),(\"Finland\"),(\"France\"),(\"Gabon\"),(\"Georgia\"),(\"Germany\"),(\"Greece\"),(\"Hungary\"),(\"Iceland\"),(\"India\"),(\"Iran\"),(\"Israel\"),(\"Italy\"),(\"Japan\"),(\"Kazakhstan\"),(\"Kuwait\"),(\"Latvia\"),(\"Lithuania\"),(\"Luxembourg\"),(\"Macedonia\"),(\"Malta\"),(\"Moldova\"),(\"Montenegro\"),(\"Morocco\"),(\"Netherlands\"),(\"Nigeria\"),(\"Norway\"),(\"Poland\"),(\"Portugal\"),(\"Qatar\"),(\"Romania\"),(\"Russia\"),(\"Saudi Arabia\"),(\"Scotland\"),(\"Serbia\"),(\"Singapore\"),(\"Slovakia\"),(\"Slovenia\"),(\"South Korea\"),(\"Spain\"),(\"Sweden\"),(\"Switzerland\"),(\"Tunisia\"),(\"Turkey\"),(\"USA\"),(\"Ukraine\"),(\"United Arab Emirates\");\n"
     ]
    }
   ],
   "source": [
    "print (\"INSERT INTO paises (pais)\")\n",
    "print(\"VALUES\")\n",
    "texto = \"\"\n",
    "for i in lista_paises:\n",
    "    texto += '(\"{}\"),'.format(i)\n",
    "print(texto[:-1]+\";\")"
   ]
  },
  {
   "cell_type": "code",
   "execution_count": 12,
   "metadata": {},
   "outputs": [
    {
     "name": "stdout",
     "output_type": "stream",
     "text": [
      "{'Albania': 1, 'Algeria': 2, 'Angola': 3, 'Argentina': 4, 'Australia': 5, 'Austria': 6, 'Azerbaidjan': 7, 'Bahrain': 8, 'Belarus': 9, 'Belgium': 10, 'Bosnia-Herzegovina': 11, 'Brazil': 12, 'Bulgaria': 13, 'Cameroon': 14, 'Chile': 15, 'China': 16, 'Colombia': 17, 'Croatia': 18, 'Cuba': 19, 'Cyprus': 20, 'Czech Republic': 21, 'Denmark': 22, 'Dominican Republic': 23, 'Ecuador': 24, 'Egypt': 25, 'England': 26, 'Estonia': 27, 'Faroe Islands': 28, 'Finland': 29, 'France': 30, 'Gabon': 31, 'Georgia': 32, 'Germany': 33, 'Greece': 34, 'Hungary': 35, 'Iceland': 36, 'India': 37, 'Iran': 38, 'Israel': 39, 'Italy': 40, 'Japan': 41, 'Kazakhstan': 42, 'Kuwait': 43, 'Latvia': 44, 'Lithuania': 45, 'Luxembourg': 46, 'Macedonia': 47, 'Malta': 48, 'Moldova': 49, 'Montenegro': 50, 'Morocco': 51, 'Netherlands': 52, 'Nigeria': 53, 'Norway': 54, 'Poland': 55, 'Portugal': 56, 'Qatar': 57, 'Romania': 58, 'Russia': 59, 'Saudi Arabia': 60, 'Scotland': 61, 'Serbia': 62, 'Singapore': 63, 'Slovakia': 64, 'Slovenia': 65, 'South Korea': 66, 'Spain': 67, 'Sweden': 68, 'Switzerland': 69, 'Tunisia': 70, 'Turkey': 71, 'USA': 72, 'Ukraine': 73, 'United Arab Emirates': 74}\n"
     ]
    }
   ],
   "source": [
    "dict_paises = {}\n",
    "for index, value in enumerate(lista_paises):\n",
    "    dict_paises[value] = index+1\n",
    "print(dict_paises)"
   ]
  },
  {
   "attachments": {},
   "cell_type": "markdown",
   "metadata": {},
   "source": [
    "## CIUDADES"
   ]
  },
  {
   "cell_type": "code",
   "execution_count": 29,
   "metadata": {},
   "outputs": [
    {
     "name": "stdout",
     "output_type": "stream",
     "text": [
      "837\n"
     ]
    },
    {
     "data": {
      "text/html": [
       "<div>\n",
       "<style scoped>\n",
       "    .dataframe tbody tr th:only-of-type {\n",
       "        vertical-align: middle;\n",
       "    }\n",
       "\n",
       "    .dataframe tbody tr th {\n",
       "        vertical-align: top;\n",
       "    }\n",
       "\n",
       "    .dataframe thead th {\n",
       "        text-align: right;\n",
       "    }\n",
       "</style>\n",
       "<table border=\"1\" class=\"dataframe\">\n",
       "  <thead>\n",
       "    <tr style=\"text-align: right;\">\n",
       "      <th></th>\n",
       "      <th>ciudad</th>\n",
       "      <th>idPais</th>\n",
       "    </tr>\n",
       "  </thead>\n",
       "  <tbody>\n",
       "    <tr>\n",
       "      <th>0</th>\n",
       "      <td>Aix-en-Provence</td>\n",
       "      <td>France</td>\n",
       "    </tr>\n",
       "    <tr>\n",
       "      <th>1</th>\n",
       "      <td>Appiano sulla Strada del Vino</td>\n",
       "      <td>Italy</td>\n",
       "    </tr>\n",
       "    <tr>\n",
       "      <th>2</th>\n",
       "      <td>Aalborg</td>\n",
       "      <td>Denmark</td>\n",
       "    </tr>\n",
       "    <tr>\n",
       "      <th>3</th>\n",
       "      <td>Aalsmeer</td>\n",
       "      <td>Netherlands</td>\n",
       "    </tr>\n",
       "    <tr>\n",
       "      <th>4</th>\n",
       "      <td>Aarau</td>\n",
       "      <td>Switzerland</td>\n",
       "    </tr>\n",
       "  </tbody>\n",
       "</table>\n",
       "</div>"
      ],
      "text/plain": [
       "                            ciudad       idPais\n",
       "0                  Aix-en-Provence       France\n",
       "1   Appiano sulla Strada del Vino         Italy\n",
       "2                          Aalborg      Denmark\n",
       "3                         Aalsmeer  Netherlands\n",
       "4                            Aarau  Switzerland"
      ]
     },
     "execution_count": 29,
     "metadata": {},
     "output_type": "execute_result"
    }
   ],
   "source": [
    "df_ciudades_1 = data_clubs.loc[data_clubs.country.notnull(), ['city', 'country']]\n",
    "df_ciudades_2 = data_arenas.loc[data_arenas.country.notnull(), ['city', 'country']]\n",
    "df_ciudades = pd.concat([df_ciudades_1, df_ciudades_2])\\\n",
    "    .drop_duplicates(subset=['city', 'country'])\\\n",
    "    .sort_values(['city', 'country'])\\\n",
    "    .reset_index(drop=True)\\\n",
    "    .rename(columns={'city':'ciudad', 'country':'idPais'})\n",
    "df_ciudades.loc[len(df_ciudades)] = ['Mogilev', \"Belarus\"]\n",
    "print(len(df_ciudades))\n",
    "df_ciudades.head()"
   ]
  },
  {
   "cell_type": "code",
   "execution_count": 30,
   "metadata": {},
   "outputs": [
    {
     "data": {
      "text/html": [
       "<div>\n",
       "<style scoped>\n",
       "    .dataframe tbody tr th:only-of-type {\n",
       "        vertical-align: middle;\n",
       "    }\n",
       "\n",
       "    .dataframe tbody tr th {\n",
       "        vertical-align: top;\n",
       "    }\n",
       "\n",
       "    .dataframe thead th {\n",
       "        text-align: right;\n",
       "    }\n",
       "</style>\n",
       "<table border=\"1\" class=\"dataframe\">\n",
       "  <thead>\n",
       "    <tr style=\"text-align: right;\">\n",
       "      <th></th>\n",
       "      <th>ciudad</th>\n",
       "      <th>idPais</th>\n",
       "    </tr>\n",
       "  </thead>\n",
       "  <tbody>\n",
       "    <tr>\n",
       "      <th>0</th>\n",
       "      <td>Aix-en-Provence</td>\n",
       "      <td>30</td>\n",
       "    </tr>\n",
       "    <tr>\n",
       "      <th>1</th>\n",
       "      <td>Appiano sulla Strada del Vino</td>\n",
       "      <td>40</td>\n",
       "    </tr>\n",
       "    <tr>\n",
       "      <th>2</th>\n",
       "      <td>Aalborg</td>\n",
       "      <td>22</td>\n",
       "    </tr>\n",
       "    <tr>\n",
       "      <th>3</th>\n",
       "      <td>Aalsmeer</td>\n",
       "      <td>52</td>\n",
       "    </tr>\n",
       "    <tr>\n",
       "      <th>4</th>\n",
       "      <td>Aarau</td>\n",
       "      <td>69</td>\n",
       "    </tr>\n",
       "  </tbody>\n",
       "</table>\n",
       "</div>"
      ],
      "text/plain": [
       "                            ciudad  idPais\n",
       "0                  Aix-en-Provence      30\n",
       "1   Appiano sulla Strada del Vino       40\n",
       "2                          Aalborg      22\n",
       "3                         Aalsmeer      52\n",
       "4                            Aarau      69"
      ]
     },
     "execution_count": 30,
     "metadata": {},
     "output_type": "execute_result"
    }
   ],
   "source": [
    "df_ciudades['idPais'] = df_ciudades['idPais'].map(lambda x: dict_paises[x])\n",
    "df_ciudades.head()"
   ]
  },
  {
   "cell_type": "code",
   "execution_count": 31,
   "metadata": {},
   "outputs": [
    {
     "name": "stdout",
     "output_type": "stream",
     "text": [
      "INSERT INTO ciudades (ciudad, idPais)\n",
      "VALUES\n",
      "(\" Aix-en-Provence\", \"30\"),(\" Appiano sulla Strada del Vino \", \"40\"),(\"Aalborg\", \"22\"),(\"Aalsmeer\", \"52\"),(\"Aarau\", \"69\"),(\"Aarhus\", \"22\"),(\"Ahlen\", \"33\"),(\"Aichi\", \"41\"),(\"Aix\", \"30\"),(\"Akureyri\", \"36\"),(\"Al Ain\", \"74\"),(\"Al Gharafa\", \"57\"),(\"Al Khor\", \"57\"),(\"Al Rayyan\", \"57\"),(\"Al Wakrah\", \"57\"),(\"Al Zulfi\", \"60\"),(\"Al-Qarah\", \"60\"),(\"Al-Qudaih\", \"60\"),(\"Alcobendas\", \"67\"),(\"Aleksandrovac\", \"62\"),(\"Alesund\", \"54\"),(\"Alexandria\", \"58\"),(\"Alicante\", \"67\"),(\"Alingsås\", \"68\"),(\"Alstermo\", \"68\"),(\"Altenholz\", \"33\"),(\"Alytus\", \"45\"),(\"Anderstorp\", \"68\"),(\"Andrijevica\", \"50\"),(\"Angers\", \"30\"),(\"Ankara\", \"71\"),(\"Antalya\", \"71\"),(\"Antequera\", \"67\"),(\"Apatin\", \"62\"),(\"Aranđelovac\", \"62\"),(\"Arendal\", \"54\"),(\"Argos\", \"34\"),(\"Ashdod\", \"39\"),(\"Astrakhan\", \"59\"),(\"Athens\", \"34\"),(\"Attert\", \"46\"),(\"Aue\", \"33\"),(\"Augustdorf\", \"33\"),(\"Aurich\", \"33\"),(\"Avanca \", \"56\"),(\"Bacău\", \"58\"),(\"Bad Schwartau\", \"33\"),(\"Bad Vöslau\", \"6\"),(\"Baden\", \"69\"),(\"Baden-Baden\", \"33\"),(\"Baerum\", \"54\"),(\"Baia Mare\", \"58\"),(\"Baku\", \"7\"),(\"Balatonboglar\", \"35\"),(\"Balatonfüred\", \"35\"),(\"Balingen\", \"33\"),(\"Banja Luka\", \"11\"),(\"Bar\", \"50\"),(\"Barcelona\", \"67\"),(\"Bartringen\", \"46\"),(\"Bascharage\", \"46\"),(\"Basel\", \"69\"),(\"Baunatal\", \"33\"),(\"Bačka Palanka\", \"62\"),(\"Beersheba\", \"39\"),(\"Bekkelaget\", \"54\"),(\"Bekkestua\", \"54\"),(\"Bela Palanka\", \"62\"),(\"Belgrade\", \"62\"),(\"Belvaux\", \"46\"),(\"Beni Khiar\", \"70\"),(\"Benidorm \", \"67\"),(\"Beograd\", \"62\"),(\"Berane\", \"50\"),(\"Berchem\", \"46\"),(\"Bergen\", \"54\"),(\"Berlin\", \"33\"),(\"Bern\", \"69\"),(\"Bernburg\", \"33\"),(\"Besançon\", \"30\"),(\"Biala Podlaska\", \"55\"),(\"Bietigheim-Bissingen\", \"33\"),(\"Bijelo Polje\", \"50\"),(\"Billère\", \"30\"),(\"Birsfelden\", \"69\"),(\"Bitola\", \"47\"),(\"Bjelovar\", \"18\"),(\"Bjerringbro, Silkeborg\", \"22\"),(\"Blace\", \"62\"),(\"Bocholt\", \"10\"),(\"Bodø\", \"54\"),(\"Bogatić\", \"62\"),(\"Bojnice\", \"64\"),(\"Bolzano \", \"40\"),(\"Braga\", \"56\"),(\"Bratislava\", \"64\"),(\"Braunschweig\", \"33\"),(\"Bregenz\", \"6\"),(\"Bressanone\", \"40\"),(\"Brest\", \"9\"),(\"Brežice\", \"65\"),(\"Brisbane\", \"5\"),(\"Brno\", \"21\"),(\"Bruck an der Mur\", \"6\"),(\"Brčko\", \"11\"),(\"Bucharest\", \"58\"),(\"Budakalász\", \"35\"),(\"Budakeszi\", \"35\"),(\"Budapest\", \"35\"),(\"Budva\", \"50\"),(\"Bugojno\", \"11\"),(\"Burgos\", \"67\"),(\"Bursa\", \"71\"),(\"Burscheid\", \"33\"),(\"Buzet\", \"18\"),(\"Buzău\", \"58\"),(\"Bærum\", \"54\"),(\"Caen\", \"30\"),(\"Cairo\", \"25\"),(\"Cambridge\", \"26\"),(\"Canberra\", \"5\"),(\"Cangas\", \"67\"),(\"Carpi\", \"40\"),(\"Carshalton\", \"26\"),(\"Cassano Magnago\", \"40\"),(\"Cegled\", \"35\"),(\"Celje\", \"65\"),(\"Cesson-Sevigne\", \"30\"),(\"Cesson-Sévigné\", \"30\"),(\"Cetinje\", \"50\"),(\"Chambery\", \"30\"),(\"Chambéry \", \"30\"),(\"Chartes\", \"30\"),(\"Chartres\", \"30\"),(\"Chekhov\", \"59\"),(\"Chelyabinsk\", \"59\"),(\"Cheongju\", \"66\"),(\"Cherbourg-en-Cotentin\", \"30\"),(\"Chiajna\", \"58\"),(\"Chungnam\", \"66\"),(\"Ciudad Real\", \"67\"),(\"Coburg\", \"33\"),(\"Cologne\", \"40\"),(\"Constanța\", \"58\"),(\"Conversano\", \"40\"),(\"Copenhagen\", \"22\"),(\"Cordoba\", \"67\"),(\"Corfu\", \"34\"),(\"Crvenka\", \"62\"),(\"Créteil \", \"30\"),(\"Csurgo\", \"35\"),(\"Csurgó\", \"35\"),(\"Cuenca\", \"67\"),(\"Călărași\", \"58\"),(\"Dabas\", \"35\"),(\"Danilovgrad\", \"50\"),(\"Debrecen\", \"35\"),(\"Dessau\", \"33\"),(\"Dessau-Roßlau \", \"33\"),(\"Dibba Al-Hisn\", \"74\"),(\"Diekirch\", \"46\"),(\"Differdange\", \"46\"),(\"Dijon\", \"30\"),(\"Dimona\", \"39\"),(\"Djakovo\", \"18\"),(\"Dobele\", \"44\"),(\"Doboj\", \"11\"),(\"Dobova\", \"65\"),(\"Dobrudja\", \"13\"),(\"Doha\", \"57\"),(\"Dormagen\", \"33\"),(\"Drama\", \"34\"),(\"Drammen\", \"54\"),(\"Dresden\", \"33\"),(\"Dubai\", \"74\"),(\"Dubrovnik\", \"18\"),(\"Dudelange\", \"46\"),(\"Dugo Selo\", \"18\"),(\"Dunkerque\", \"30\"),(\"Edessa\", \"34\"),(\"Eger\", \"35\"),(\"Eisenach\", \"33\"),(\"Eivissa\", \"67\"),(\"Elverum\", \"54\"),(\"Emsdetten\", \"33\"),(\"Endingen\", \"69\"),(\"Eriksdal\", \"68\"),(\"Erlangen\", \"33\"),(\"Esbjerg\", \"22\"),(\"Esch\", \"46\"),(\"Eskilstuna\", \"68\"),(\"Eskisehir\", \"71\"),(\"Essen\", \"33\"),(\"Fafe\", \"56\"),(\"Fasano\", \"40\"),(\"Ferlach\", \"6\"),(\"Ferndorf\", \"33\"),(\"Fjellhammar\", \"54\"),(\"Flensburg\", \"33\"),(\"Fondi\", \"40\"),(\"Fosnavag\", \"54\"),(\"Fredericia\", \"22\"),(\"Frederiksberg\", \"22\"),(\"Frederikshavn\", \"22\"),(\"Frontignan\", \"30\"),(\"Frýdek Místek\", \"21\"),(\"Fukui\", \"41\"),(\"Furstenfeldbruck\", \"33\"),(\"Fyllingsdalen\", \"54\"),(\"Făgăraș\", \"58\"),(\"Gabrovo\", \"13\"),(\"Gaeta\", \"40\"),(\"Gajdobra\", \"62\"),(\"Garðabær\", \"36\"),(\"Gdansk\", \"55\"),(\"Gdańsk\", \"55\"),(\"Gelnhausen\", \"33\"),(\"Geneva\", \"69\"),(\"Girona\", \"67\"),(\"Gladbeck\", \"33\"),(\"Glogw\", \"55\"),(\"Gondomar\", \"56\"),(\"Goražde\", \"11\"),(\"Gorna Oryahovitsa\", \"13\"),(\"Gornji Vakuf-Uskoplje\", \"11\"),(\"Gorzow\", \"55\"),(\"Gospić\", \"18\"),(\"Gossau \", \"69\"),(\"Gothenburg\", \"68\"),(\"Gotse Delchev\", \"13\"),(\"Gradačac\", \"11\"),(\"Granollers\", \"67\"),(\"Graz\", \"6\"),(\"Gračanica\", \"11\"),(\"Greiwemaacher\", \"46\"),(\"Grindsted\", \"22\"),(\"Grodkow\", \"55\"),(\"Grodno\", \"9\"),(\"Gromitz\", \"33\"),(\"Grosuplje\", \"65\"),(\"Großwallstadt\", \"33\"),(\"Grudziadz\", \"55\"),(\"Gryfino\", \"55\"),(\"Guadalajara\", \"67\"),(\"Gudme\", \"22\"),(\"Guimaraes\", \"56\"),(\"Gummersbach\", \"33\"),(\"Gyongyos\", \"35\"),(\"Gyöngyös\", \"35\"),(\"Gzira\", \"48\"),(\"Göppingen\", \"33\"),(\"Göteborg\", \"68\"),(\"Göztepe\", \"71\"),(\"Güneysu\", \"71\"),(\"Głogów\", \"55\"),(\"Haacht\", \"10\"),(\"Hafnarfjörður\", \"36\"),(\"Hagen\", \"33\"),(\"Halden\", \"54\"),(\"Halmstad\", \"68\"),(\"Hamar\", \"54\"),(\"Hamburg\", \"33\"),(\"Hamm\", \"33\"),(\"Hammamet\", \"70\"),(\"Hanam\", \"66\"),(\"Hanau\", \"33\"),(\"Hannover\", \"33\"),(\"Hanover\", \"33\"),(\"Hard\", \"6\"),(\"Harstad\", \"54\"),(\"Haskovo\", \"13\"),(\"Hasselt\", \"10\"),(\"Hassloch\", \"33\"),(\"Hatay\", \"71\"),(\"Hatvan\", \"35\"),(\"Heilbronn\", \"33\"),(\"Helsingborg\", \"68\"),(\"Helsinge\", \"22\"),(\"Helsinki\", \"29\"),(\"Herning\", \"22\"),(\"Herzliya \", \"39\"),(\"Hildesheim\", \"33\"),(\"Hille\", \"33\"),(\"Hiroshima\", \"41\"),(\"Hlohovec\", \"64\"),(\"Hollabrunn\", \"6\"),(\"Holon\", \"39\"),(\"Holstebro\", \"22\"),(\"Hommelvik\", \"54\"),(\"Horta\", \"56\"),(\"Horten\", \"54\"),(\"Hoyvik\", \"28\"),(\"Hranice\", \"21\"),(\"Huesca\", \"67\"),(\"Hüttenberg\", \"33\"),(\"Ig\", \"65\"),(\"Ilawa\", \"55\"),(\"Incheon \", \"66\"),(\"Indjija\", \"62\"),(\"Irun\", \"67\"),(\"Isafjordur\", \"36\"),(\"Isfahan\", \"38\"),(\"Istanbul\", \"71\"),(\"Istres\", \"30\"),(\"Ivančna Gorica\", \"65\"),(\"Ivry\", \"30\"),(\"Izmir\", \"71\"),(\"Izola\", \"65\"),(\"Jagodina\", \"62\"),(\"Jammel\", \"70\"),(\"Jeddah\", \"60\"),(\"Jičín\", \"21\"),(\"Jonkoping\", \"68\"),(\"Jurmala\", \"44\"),(\"Jönköping\", \"68\"),(\"Kaiserslautern\", \"33\"),(\"Kakanj\", \"11\"),(\"Kalisz\", \"55\"),(\"Kanzaki\", \"41\"),(\"Karlovac\", \"18\"),(\"Karlskrona\", \"68\"),(\"Karviná\", \"21\"),(\"Kaunas\", \"45\"),(\"Kauniainen\", \"29\"),(\"Kavadarci\", \"47\"),(\"Kazeroon\", \"38\"),(\"Kać\", \"62\"),(\"Kaštela\", \"18\"),(\"Kecskemet\", \"35\"),(\"Kehra\", \"27\"),(\"Kerman\", \"38\"),(\"Kiel\", \"33\"),(\"Kielce\", \"55\"),(\"Kiev\", \"73\"),(\"Kikinda\", \"62\"),(\"Kirchzell\", \"33\"),(\"Kiryat Motzkin\", \"39\"),(\"Kiryat Ono\", \"39\"),(\"Klaipėda\", \"45\"),(\"Kolding\", \"22\"),(\"Koln\", \"33\"),(\"Komlo\", \"35\"),(\"Komló\", \"35\"),(\"Konstantynow Lodzki\", \"55\"),(\"Konstanz\", \"33\"),(\"Koper\", \"65\"),(\"Kopřivnice\", \"21\"),(\"Kornwestheim\", \"33\"),(\"Koscian\", \"55\"),(\"Koscierzyna\", \"55\"),(\"Kostolac\", \"62\"),(\"Koszalin\", \"55\"),(\"Koycegiz\", \"71\"),(\"Košice\", \"64\"),(\"Kragujevac\", \"62\"),(\"Kraljevo\", \"62\"),(\"Krasnodar\", \"59\"),(\"Krefeld\", \"33\"),(\"Krems\", \"6\"),(\"Kreuzlingen\", \"69\"),(\"Kristiansand\", \"54\"),(\"Kristianstad\", \"68\"),(\"Križevci\", \"18\"),(\"Krško\", \"65\"),(\"Ksar Hellal\", \"70\"),(\"Ksour Essef\", \"70\"),(\"Kumanovo\", \"47\"),(\"Kungsbacka\", \"68\"),(\"Kungälv\", \"68\"),(\"Kuršumlija\", \"62\"),(\"Kuwait City\", \"43\"),(\"Kwidzyn\", \"55\"),(\"Kópavogur\", \"36\"),(\"Labin\", \"18\"),(\"Lajmoisze\", \"35\"),(\"Langhus\", \"54\"),(\"Lauterach\", \"6\"),(\"Lavis\", \"40\"),(\"Lazarevac\", \"62\"),(\"Legionowo\", \"55\"),(\"Legnica\", \"55\"),(\"Leipzig\", \"33\"),(\"Lemgo\", \"33\"),(\"Lemvig\", \"22\"),(\"Lena\", \"54\"),(\"Leoben\", \"6\"),(\"Leskovac\", \"62\"),(\"Leszno\", \"55\"),(\"Leutershausen\", \"33\"),(\"Levski\", \"13\"),(\"León\", \"67\"),(\"Lillehammer\", \"54\"),(\"Lillestrøm\", \"54\"),(\"Limoges\", \"30\"),(\"Lindesberg\", \"68\"),(\"Linz\", \"6\"),(\"Lisbon\", \"56\"),(\"Livingston\", \"26\"),(\"Ljubljana\", \"65\"),(\"Ljubuški\", \"11\"),(\"Lodz\", \"55\"),(\"Logroño\", \"67\"),(\"Logroño, La Rioja\", \"67\"),(\"Lolland-Falster\", \"22\"),(\"London\", \"26\"),(\"Lormont\", \"30\"),(\"Lovech\", \"13\"),(\"Lovosice\", \"21\"),(\"Loznica\", \"62\"),(\"Lubeck\", \"33\"),(\"Lubin\", \"55\"),(\"Ludwigsburg\", \"33\"),(\"Ludwigshafen\", \"33\"),(\"Ludza\", \"44\"),(\"Lund\", \"68\"),(\"Luxembourg\", \"46\"),(\"Luzern\", \"69\"),(\"Lviv\", \"73\"),(\"Lørenskog\", \"54\"),(\"Lübbecke \", \"33\"),(\"Madeira\", \"56\"),(\"Madinat al-Kuwayt\", \"43\"),(\"Madinat ash Shamal\", \"57\"),(\"Madrid\", \"67\"),(\"Magdeburg\", \"33\"),(\"Maglaj\", \"11\"),(\"Mahdia\", \"70\"),(\"Maia\", \"56\"),(\"Malaga\", \"67\"),(\"Malmö\", \"68\"),(\"Mamak\", \"71\"),(\"Manama\", \"8\"),(\"Manchester\", \"26\"),(\"Mannheim\", \"33\"),(\"Maribor\", \"65\"),(\"Mariupol\", \"73\"),(\"Massy (Essonne)\", \"30\"),(\"Matosinhos\", \"56\"),(\"Mecca\", \"60\"),(\"Melbourne\", \"5\"),(\"Melhus\", \"54\"),(\"Melsungen\", \"33\"),(\"Merano \", \"40\"),(\"Mersch\", \"46\"),(\"Metković\", \"18\"),(\"Mezdra\", \"13\"),(\"Mezőkövesd\", \"35\"),(\"Mielec\", \"55\"),(\"Minden\", \"33\"),(\"Minsk\", \"9\"),(\"Miyoshi\", \"41\"),(\"Mleiha\", \"74\"),(\"Modra\", \"64\"),(\"Mohlin\", \"69\"),(\"Mojkovac\", \"50\"),(\"Moknine\", \"70\"),(\"Montpellier\", \"30\"),(\"Moscow\", \"59\"),(\"Mosfellsbær\", \"36\"),(\"Moss\", \"54\"),(\"Mungyeong\", \"66\"),(\"Märsta\", \"68\"),(\"Naerbo\", \"54\"),(\"Nagoya\", \"41\"),(\"Nancy\", \"30\"),(\"Nantes\", \"30\"),(\"Nava de la Asunción\", \"67\"),(\"Našice\", \"18\"),(\"Nedenes\", \"54\"),(\"Negotin\", \"62\"),(\"Negotino\", \"47\"),(\"Ness Ziona\", \"39\"),(\"Neuhausen\", \"33\"),(\"Nevesinje\", \"11\"),(\"Nice\", \"30\"),(\"Nicosia\", \"20\"),(\"Nienburg\", \"33\"),(\"Nikšić\", \"50\"),(\"Nimes\", \"30\"),(\"Niš\", \"62\"),(\"Nordhorn\", \"33\"),(\"Northeim\", \"33\"),(\"Nottingham\", \"26\"),(\"Nova Varoš\", \"62\"),(\"Nove Zamky\", \"64\"),(\"Novi Bečej\", \"62\"),(\"Novi Pazar\", \"62\"),(\"Novi Sad\", \"62\"),(\"Novi Zagreb\", \"18\"),(\"Novo Mesto\", \"65\"),(\"Nové Veselí\", \"21\"),(\"Nowa Sol\", \"55\"),(\"Nuremberg\", \"33\"),(\"Nykobing Mors\", \"22\"),(\"Nykøbing Mors \", \"22\"),(\"Nærbø\", \"54\"),(\"Nîmes\", \"30\"),(\"Oborniki \", \"55\"),(\"Oborniki Slaskie\", \"55\"),(\"Odder\", \"22\"),(\"Odense\", \"22\"),(\"Odessa\", \"73\"),(\"Odorheiu Secuiesc\", \"58\"),(\"Oftersheim\", \"33\"),(\"Ogre\", \"44\"),(\"Ohira\", \"41\"),(\"Ohrid\", \"47\"),(\"Okinawa\", \"41\"),(\"Olsztyn\", \"55\"),(\"Omiš\", \"18\"),(\"Onojo\", \"41\"),(\"Opladen\", \"33\"),(\"Opole\", \"55\"),(\"Oppenweiler\", \"33\"),(\"Opuzen\", \"18\"),(\"Oradea\", \"58\"),(\"Oranienburg\", \"33\"),(\"Orleans\", \"30\"),(\"Ormož\", \"65\"),(\"Orosháza\", \"35\"),(\"Osijek\", \"18\"),(\"Oslo\", \"54\"),(\"Ostroleka\", \"55\"),(\"Ostrow Wielkopolski\", \"55\"),(\"Otterup\", \"22\"),(\"Oviedo\", \"67\"),(\"Ozd\", \"35\"),(\"Pabianice\", \"55\"),(\"Palma del Rio\", \"67\"),(\"Pamplona\", \"67\"),(\"Panningen\", \"52\"),(\"Pančevo\", \"62\"),(\"Paris\", \"30\"),(\"Partille\", \"68\"),(\"Pelt\", \"10\"),(\"Perm\", \"59\"),(\"Petange\", \"46\"),(\"Pforzheim\", \"33\"),(\"Pfullingen\", \"33\"),(\"Piekary Slaskie\", \"55\"),(\"Piotrków Trybunalski\", \"55\"),(\"Piraeus\", \"34\"),(\"Pljevlja\", \"50\"),(\"Plzeň\", \"21\"),(\"Podgorica\", \"50\"),(\"Pohlheim\", \"33\"),(\"Pontault-Combault \", \"30\"),(\"Pontevedra\", \"67\"),(\"Poreč\", \"18\"),(\"Porto\", \"56\"),(\"Potsdam\", \"33\"),(\"Považská Bystrica\", \"64\"),(\"Povoa de Varzim\", \"56\"),(\"Poznan\", \"55\"),(\"Požarevac\", \"62\"),(\"Požega\", \"18\"),(\"Prague\", \"21\"),(\"Prešov\", \"64\"),(\"Priboj\", \"62\"),(\"Prilep\", \"47\"),(\"Prokuplje\", \"62\"),(\"Przemysl\", \"55\"),(\"Puente Genil\", \"67\"),(\"Pula\", \"18\"),(\"Pulawy\", \"55\"),(\"Puławy\", \"55\"),(\"Põlva\", \"27\"),(\"Płock\", \"55\"),(\"Radoviš\", \"47\"),(\"Radovljica\", \"65\"),(\"Radzymin\", \"55\"),(\"Ramat Hasharon\", \"39\"),(\"Raseborg\", \"29\"),(\"Ratingen\", \"33\"),(\"Rehovot\", \"39\"),(\"Reykjavík\", \"36\"),(\"Reșița\", \"58\"),(\"Ribe\", \"22\"),(\"Ribnica\", \"65\"),(\"Riga\", \"44\"),(\"Riihimaki\", \"29\"),(\"Riihimäki\", \"29\"),(\"Rijeka\", \"18\"),(\"Rimbo\", \"68\"),(\"Rimpar\", \"33\"),(\"Ringsted\", \"22\"),(\"Rishon LeZion\", \"39\"),(\"Rodgau\", \"33\"),(\"Roskilde\", \"22\"),(\"Rostock\", \"33\"),(\"Rovinj\", \"18\"),(\"Royken\", \"54\"),(\"Rubiera \", \"40\"),(\"Rugvica\", \"18\"),(\"Rumelange\", \"46\"),(\"Saarlouis\", \"33\"),(\"Safaa Salih\", \"60\"),(\"Safwa\", \"60\"),(\"Sagunto\", \"67\"),(\"Saihat\", \"60\"),(\"Saint Petersburg\", \"59\"),(\"Saint-Raphaël\", \"30\"),(\"Sakarya\", \"71\"),(\"Sakiet Ezzit\", \"70\"),(\"Salaspils\", \"44\"),(\"Salmiya\", \"43\"),(\"Salzburg\", \"6\"),(\"Samobor\", \"18\"),(\"Sande\", \"54\"),(\"Sandefjord\", \"54\"),(\"Sandefjord \", \"54\"),(\"Sanderfjord\", \"54\"),(\"Sandim\", \"56\"),(\"Sandnes\", \"54\"),(\"Sankt Pölten\", \"6\"),(\"Sant Quirze del Vallès\", \"67\"),(\"Santander\", \"67\"),(\"Santo Tirso\", \"56\"),(\"Sao Mamede\", \"56\"),(\"Sao Mamede de Infesta\", \"56\"),(\"Sao Paio de Oleiros\", \"56\"),(\"Sao Paulo\", \"12\"),(\"Sarajevo\", \"11\"),(\"Saran\", \"30\"),(\"Saratov\", \"59\"),(\"Sarrebourg\", \"30\"),(\"Schaffhausen\", \"69\"),(\"Schalksmuhle\", \"33\"),(\"Schifflange\", \"46\"),(\"Schwaz\", \"6\"),(\"Schwerin\", \"33\"),(\"Selestat\", \"30\"),(\"Selfoss\", \"36\"),(\"Seltjarnarnes\", \"36\"),(\"Sesvete\", \"18\"),(\"Setubal\", \"56\"),(\"Sevnica\", \"65\"),(\"Sharjah \", \"74\"),(\"Shumen\", \"13\"),(\"Siena\", \"40\"),(\"Sierpc\", \"55\"),(\"Silkeborg\", \"22\"),(\"Singapore\", \"63\"),(\"Siracusa\", \"40\"),(\"Sisak\", \"18\"),(\"Sittard-Geleen\", \"52\"),(\"Siuntio\", \"29\"),(\"Sivac\", \"62\"),(\"Skanderborg\", \"22\"),(\"Ski\", \"54\"),(\"Skien\", \"54\"),(\"Skive\", \"22\"),(\"Skjern\", \"22\"),(\"Skopje\", \"47\"),(\"Skæring\", \"22\"),(\"Skövde\", \"68\"),(\"Slatina\", \"18\"),(\"Slovenj Gradec\", \"65\"),(\"Smederevo\", \"62\"),(\"Snezhinsk\", \"59\"),(\"Sofiemyr\", \"54\"),(\"Soria\", \"67\"),(\"Sosnowiec\", \"55\"),(\"Sousse\", \"70\"),(\"South Gyeongsang Province\", \"66\"),(\"Spenge\", \"33\"),(\"St. Gallen\", \"69\"),(\"St. Gallen \", \"69\"),(\"Stafa\", \"69\"),(\"Stans\", \"69\"),(\"Stavanger\", \"54\"),(\"Stavropol\", \"59\"),(\"Stockholm\", \"68\"),(\"Strakonice\", \"21\"),(\"Stralsund\", \"33\"),(\"Strasbourg\", \"30\"),(\"Straume\", \"54\"),(\"Stupava\", \"64\"),(\"Stuttgart\", \"33\"),(\"Subotica\", \"62\"),(\"Suceava\", \"58\"),(\"Suhr AG,  Aarau\", \"69\"),(\"Swidnica\", \"55\"),(\"Swiebodzin\", \"55\"),(\"Sydney\", \"5\"),(\"Sydney\", \"6\"),(\"Szczecin\", \"55\"),(\"Szeged\", \"35\"),(\"Sønderborg\", \"22\"),(\"Taganrog\", \"59\"),(\"Tallinn\", \"27\"),(\"Tapa\", \"27\"),(\"Tarnow\", \"55\"),(\"Tarnów\", \"55\"),(\"Tatabanya\", \"35\"),(\"Tatabánya\", \"35\"),(\"Taubate\", \"12\"),(\"Tbilisi\", \"32\"),(\"Teboulba\", \"70\"),(\"Teningen\", \"33\"),(\"Thessaloniki\", \"34\"),(\"Thun\", \"69\"),(\"Timisoara\", \"58\"),(\"Timișoara\", \"58\"),(\"Tirol\", \"6\"),(\"Tivat\", \"50\"),(\"Tokat\", \"71\"),(\"Tokyo\", \"41\"),(\"Tonder\", \"22\"),(\"Tongeren\", \"10\"),(\"Tonsberg\", \"54\"),(\"Topoľčany\", \"64\"),(\"Torrelavega\", \"67\"),(\"Toulouse\", \"30\"),(\"Trabzon\", \"71\"),(\"Traun\", \"6\"),(\"Trebinje\", \"11\"),(\"Trebnje\", \"65\"),(\"Tremblay-en-France\", \"30\"),(\"Trieste\", \"40\"),(\"Trogir\", \"18\"),(\"Tromso\", \"54\"),(\"Trondheim\", \"54\"),(\"Tunis\", \"70\"),(\"Turda\", \"58\"),(\"Turku\", \"29\"),(\"Tuzla\", \"11\"),(\"Tyresö\", \"68\"),(\"Tønsberg\", \"54\"),(\"Ub\", \"62\"),(\"Ufa\", \"59\"),(\"Ulset\", \"54\"),(\"Umag\", \"18\"),(\"Uzhhorod \", \"73\"),(\"Vainode\", \"44\"),(\"Valence\", \"30\"),(\"Valladolid\", \"67\"),(\"Valletta\", \"48\"),(\"Varaždin\", \"18\"),(\"Varberg\", \"68\"),(\"Varna\", \"13\"),(\"Vaslui\", \"58\"),(\"Vecses\", \"35\"),(\"Velenje\", \"65\"),(\"Velika Gorica\", \"18\"),(\"Velika Nedelja\", \"65\"),(\"Velika Plana\", \"62\"),(\"Veria\", \"34\"),(\"Vestmannaeyjar\", \"36\"),(\"Veszprem\", \"35\"),(\"Veszprém\", \"35\"),(\"Vidovec\", \"18\"),(\"Vienna\", \"6\"),(\"Vila Nova de Gaia\", \"56\"),(\"Vila do Porto\", \"56\"),(\"Viljandi\", \"27\"),(\"Villeurbanne\", \"30\"),(\"Vilnius\", \"45\"),(\"Vinkovci\", \"18\"),(\"Vinslöv\", \"68\"),(\"Virovitica\", \"18\"),(\"Vise\", \"10\"),(\"Viseu\", \"56\"),(\"Visoko\", \"11\"),(\"Vlasotince\", \"62\"),(\"Vogošća\", \"11\"),(\"Volendam\", \"52\"),(\"Volgograd\", \"59\"),(\"Vranje\", \"62\"),(\"Vrbas\", \"62\"),(\"Vrnjačka Banja\", \"62\"),(\"Vác\", \"35\"),(\"Västerås\", \"68\"),(\"Waalwijk\", \"52\"),(\"Wadenswil/Horgen\", \"69\"),(\"Wagrowiec\", \"55\"),(\"Waldbuttelbrunn \", \"33\"),(\"Wanderup\", \"33\"),(\"Warrington\", \"26\"),(\"Warszaw\", \"55\"),(\"Wejherowo\", \"55\"),(\"Wels\", \"6\"),(\"Werder\", \"33\"),(\"Wetzlar\", \"33\"),(\"Wielun\", \"55\"),(\"Wilhelmshaven\", \"33\"),(\"Willstatt\", \"33\"),(\"Winterthur\", \"69\"),(\"Wolsztyn\", \"55\"),(\"Wroclaw\", \"55\"),(\"Wuppertal\", \"33\"),(\"Wuppertal, Solingen\", \"33\"),(\"Ystad\", \"68\"),(\"Yuzhne\", \"73\"),(\"Zabrze\", \"55\"),(\"Zadar\", \"18\"),(\"Zagreb\", \"18\"),(\"Zamora\", \"67\"),(\"Zaporizhia\", \"73\"),(\"Zaporozhye\", \"73\"),(\"Zarautz\", \"67\"),(\"Zavidovići\", \"11\"),(\"Zebbug\", \"48\"),(\"Zielona Gora\", \"55\"),(\"Zrenjanin\", \"62\"),(\"Zubin Potok\", \"62\"),(\"Zubří\", \"21\"),(\"Zukowo\", \"55\"),(\"Zurich\", \"69\"),(\"Zvornik\", \"11\"),(\"Zwartemeer\", \"52\"),(\"Zwolen\", \"55\"),(\"Zürich\", \"69\"),(\"kofljica\", \"65\"),(\"Önnered\", \"68\"),(\"Ølstykke\", \"22\"),(\"Čakovec\", \"18\"),(\"Črnomelj\", \"65\"),(\"Šabac\", \"62\"),(\"Šaľa\", \"64\"),(\"Šiauliai\", \"45\"),(\"Škofja Loka\", \"65\"),(\"Šmartno pri Litiji\", \"65\"),(\"Železniki\", \"65\"),(\"Žitoradja\", \"62\"),(\"Živinica\", \"11\"),(\"Župa dubrovačka\", \"18\"),(\"nan\", \"6\"),(\"nan\", \"7\"),(\"nan\", \"10\"),(\"nan\", \"34\"),(\"nan\", \"44\"),(\"nan\", \"45\"),(\"nan\", \"47\"),(\"nan\", \"48\"),(\"nan\", \"52\"),(\"Mogilev\", \"9\");\n"
     ]
    }
   ],
   "source": [
    "print (\"INSERT INTO ciudades (ciudad, idPais)\")\n",
    "print(\"VALUES\")\n",
    "texto = \"\"\n",
    "for i in range(len(df_ciudades)):\n",
    "    texto += '(\"{0}\", \"{1}\"),'.format(df_ciudades.loc[i, \"ciudad\"], df_ciudades.loc[i, \"idPais\"])\n",
    "print(texto[:-1]+\";\")"
   ]
  },
  {
   "cell_type": "code",
   "execution_count": 32,
   "metadata": {},
   "outputs": [
    {
     "name": "stdout",
     "output_type": "stream",
     "text": [
      "{' Aix-en-Provence': 1, ' Appiano sulla Strada del Vino ': 2, 'Aalborg': 3, 'Aalsmeer': 4, 'Aarau': 5, 'Aarhus': 6, 'Ahlen': 7, 'Aichi': 8, 'Aix': 9, 'Akureyri': 10, 'Al Ain': 11, 'Al Gharafa': 12, 'Al Khor': 13, 'Al Rayyan': 14, 'Al Wakrah': 15, 'Al Zulfi': 16, 'Al-Qarah': 17, 'Al-Qudaih': 18, 'Alcobendas': 19, 'Aleksandrovac': 20, 'Alesund': 21, 'Alexandria': 22, 'Alicante': 23, 'Alingsås': 24, 'Alstermo': 25, 'Altenholz': 26, 'Alytus': 27, 'Anderstorp': 28, 'Andrijevica': 29, 'Angers': 30, 'Ankara': 31, 'Antalya': 32, 'Antequera': 33, 'Apatin': 34, 'Aranđelovac': 35, 'Arendal': 36, 'Argos': 37, 'Ashdod': 38, 'Astrakhan': 39, 'Athens': 40, 'Attert': 41, 'Aue': 42, 'Augustdorf': 43, 'Aurich': 44, 'Avanca ': 45, 'Bacău': 46, 'Bad Schwartau': 47, 'Bad Vöslau': 48, 'Baden': 49, 'Baden-Baden': 50, 'Baerum': 51, 'Baia Mare': 52, 'Baku': 53, 'Balatonboglar': 54, 'Balatonfüred': 55, 'Balingen': 56, 'Banja Luka': 57, 'Bar': 58, 'Barcelona': 59, 'Bartringen': 60, 'Bascharage': 61, 'Basel': 62, 'Baunatal': 63, 'Bačka Palanka': 64, 'Beersheba': 65, 'Bekkelaget': 66, 'Bekkestua': 67, 'Bela Palanka': 68, 'Belgrade': 69, 'Belvaux': 70, 'Beni Khiar': 71, 'Benidorm ': 72, 'Beograd': 73, 'Berane': 74, 'Berchem': 75, 'Bergen': 76, 'Berlin': 77, 'Bern': 78, 'Bernburg': 79, 'Besançon': 80, 'Biala Podlaska': 81, 'Bietigheim-Bissingen': 82, 'Bijelo Polje': 83, 'Billère': 84, 'Birsfelden': 85, 'Bitola': 86, 'Bjelovar': 87, 'Bjerringbro, Silkeborg': 88, 'Blace': 89, 'Bocholt': 90, 'Bodø': 91, 'Bogatić': 92, 'Bojnice': 93, 'Bolzano ': 94, 'Braga': 95, 'Bratislava': 96, 'Braunschweig': 97, 'Bregenz': 98, 'Bressanone': 99, 'Brest': 100, 'Brežice': 101, 'Brisbane': 102, 'Brno': 103, 'Bruck an der Mur': 104, 'Brčko': 105, 'Bucharest': 106, 'Budakalász': 107, 'Budakeszi': 108, 'Budapest': 109, 'Budva': 110, 'Bugojno': 111, 'Burgos': 112, 'Bursa': 113, 'Burscheid': 114, 'Buzet': 115, 'Buzău': 116, 'Bærum': 117, 'Caen': 118, 'Cairo': 119, 'Cambridge': 120, 'Canberra': 121, 'Cangas': 122, 'Carpi': 123, 'Carshalton': 124, 'Cassano Magnago': 125, 'Cegled': 126, 'Celje': 127, 'Cesson-Sevigne': 128, 'Cesson-Sévigné': 129, 'Cetinje': 130, 'Chambery': 131, 'Chambéry ': 132, 'Chartes': 133, 'Chartres': 134, 'Chekhov': 135, 'Chelyabinsk': 136, 'Cheongju': 137, 'Cherbourg-en-Cotentin': 138, 'Chiajna': 139, 'Chungnam': 140, 'Ciudad Real': 141, 'Coburg': 142, 'Cologne': 143, 'Constanța': 144, 'Conversano': 145, 'Copenhagen': 146, 'Cordoba': 147, 'Corfu': 148, 'Crvenka': 149, 'Créteil ': 150, 'Csurgo': 151, 'Csurgó': 152, 'Cuenca': 153, 'Călărași': 154, 'Dabas': 155, 'Danilovgrad': 156, 'Debrecen': 157, 'Dessau': 158, 'Dessau-Roßlau ': 159, 'Dibba Al-Hisn': 160, 'Diekirch': 161, 'Differdange': 162, 'Dijon': 163, 'Dimona': 164, 'Djakovo': 165, 'Dobele': 166, 'Doboj': 167, 'Dobova': 168, 'Dobrudja': 169, 'Doha': 170, 'Dormagen': 171, 'Drama': 172, 'Drammen': 173, 'Dresden': 174, 'Dubai': 175, 'Dubrovnik': 176, 'Dudelange': 177, 'Dugo Selo': 178, 'Dunkerque': 179, 'Edessa': 180, 'Eger': 181, 'Eisenach': 182, 'Eivissa': 183, 'Elverum': 184, 'Emsdetten': 185, 'Endingen': 186, 'Eriksdal': 187, 'Erlangen': 188, 'Esbjerg': 189, 'Esch': 190, 'Eskilstuna': 191, 'Eskisehir': 192, 'Essen': 193, 'Fafe': 194, 'Fasano': 195, 'Ferlach': 196, 'Ferndorf': 197, 'Fjellhammar': 198, 'Flensburg': 199, 'Fondi': 200, 'Fosnavag': 201, 'Fredericia': 202, 'Frederiksberg': 203, 'Frederikshavn': 204, 'Frontignan': 205, 'Frýdek Místek': 206, 'Fukui': 207, 'Furstenfeldbruck': 208, 'Fyllingsdalen': 209, 'Făgăraș': 210, 'Gabrovo': 211, 'Gaeta': 212, 'Gajdobra': 213, 'Garðabær': 214, 'Gdansk': 215, 'Gdańsk': 216, 'Gelnhausen': 217, 'Geneva': 218, 'Girona': 219, 'Gladbeck': 220, 'Glogw': 221, 'Gondomar': 222, 'Goražde': 223, 'Gorna Oryahovitsa': 224, 'Gornji Vakuf-Uskoplje': 225, 'Gorzow': 226, 'Gospić': 227, 'Gossau ': 228, 'Gothenburg': 229, 'Gotse Delchev': 230, 'Gradačac': 231, 'Granollers': 232, 'Graz': 233, 'Gračanica': 234, 'Greiwemaacher': 235, 'Grindsted': 236, 'Grodkow': 237, 'Grodno': 238, 'Gromitz': 239, 'Grosuplje': 240, 'Großwallstadt': 241, 'Grudziadz': 242, 'Gryfino': 243, 'Guadalajara': 244, 'Gudme': 245, 'Guimaraes': 246, 'Gummersbach': 247, 'Gyongyos': 248, 'Gyöngyös': 249, 'Gzira': 250, 'Göppingen': 251, 'Göteborg': 252, 'Göztepe': 253, 'Güneysu': 254, 'Głogów': 255, 'Haacht': 256, 'Hafnarfjörður': 257, 'Hagen': 258, 'Halden': 259, 'Halmstad': 260, 'Hamar': 261, 'Hamburg': 262, 'Hamm': 263, 'Hammamet': 264, 'Hanam': 265, 'Hanau': 266, 'Hannover': 267, 'Hanover': 268, 'Hard': 269, 'Harstad': 270, 'Haskovo': 271, 'Hasselt': 272, 'Hassloch': 273, 'Hatay': 274, 'Hatvan': 275, 'Heilbronn': 276, 'Helsingborg': 277, 'Helsinge': 278, 'Helsinki': 279, 'Herning': 280, 'Herzliya ': 281, 'Hildesheim': 282, 'Hille': 283, 'Hiroshima': 284, 'Hlohovec': 285, 'Hollabrunn': 286, 'Holon': 287, 'Holstebro': 288, 'Hommelvik': 289, 'Horta': 290, 'Horten': 291, 'Hoyvik': 292, 'Hranice': 293, 'Huesca': 294, 'Hüttenberg': 295, 'Ig': 296, 'Ilawa': 297, 'Incheon ': 298, 'Indjija': 299, 'Irun': 300, 'Isafjordur': 301, 'Isfahan': 302, 'Istanbul': 303, 'Istres': 304, 'Ivančna Gorica': 305, 'Ivry': 306, 'Izmir': 307, 'Izola': 308, 'Jagodina': 309, 'Jammel': 310, 'Jeddah': 311, 'Jičín': 312, 'Jonkoping': 313, 'Jurmala': 314, 'Jönköping': 315, 'Kaiserslautern': 316, 'Kakanj': 317, 'Kalisz': 318, 'Kanzaki': 319, 'Karlovac': 320, 'Karlskrona': 321, 'Karviná': 322, 'Kaunas': 323, 'Kauniainen': 324, 'Kavadarci': 325, 'Kazeroon': 326, 'Kać': 327, 'Kaštela': 328, 'Kecskemet': 329, 'Kehra': 330, 'Kerman': 331, 'Kiel': 332, 'Kielce': 333, 'Kiev': 334, 'Kikinda': 335, 'Kirchzell': 336, 'Kiryat Motzkin': 337, 'Kiryat Ono': 338, 'Klaipėda': 339, 'Kolding': 340, 'Koln': 341, 'Komlo': 342, 'Komló': 343, 'Konstantynow Lodzki': 344, 'Konstanz': 345, 'Koper': 346, 'Kopřivnice': 347, 'Kornwestheim': 348, 'Koscian': 349, 'Koscierzyna': 350, 'Kostolac': 351, 'Koszalin': 352, 'Koycegiz': 353, 'Košice': 354, 'Kragujevac': 355, 'Kraljevo': 356, 'Krasnodar': 357, 'Krefeld': 358, 'Krems': 359, 'Kreuzlingen': 360, 'Kristiansand': 361, 'Kristianstad': 362, 'Križevci': 363, 'Krško': 364, 'Ksar Hellal': 365, 'Ksour Essef': 366, 'Kumanovo': 367, 'Kungsbacka': 368, 'Kungälv': 369, 'Kuršumlija': 370, 'Kuwait City': 371, 'Kwidzyn': 372, 'Kópavogur': 373, 'Labin': 374, 'Lajmoisze': 375, 'Langhus': 376, 'Lauterach': 377, 'Lavis': 378, 'Lazarevac': 379, 'Legionowo': 380, 'Legnica': 381, 'Leipzig': 382, 'Lemgo': 383, 'Lemvig': 384, 'Lena': 385, 'Leoben': 386, 'Leskovac': 387, 'Leszno': 388, 'Leutershausen': 389, 'Levski': 390, 'León': 391, 'Lillehammer': 392, 'Lillestrøm': 393, 'Limoges': 394, 'Lindesberg': 395, 'Linz': 396, 'Lisbon': 397, 'Livingston': 398, 'Ljubljana': 399, 'Ljubuški': 400, 'Lodz': 401, 'Logroño': 402, 'Logroño, La Rioja': 403, 'Lolland-Falster': 404, 'London': 405, 'Lormont': 406, 'Lovech': 407, 'Lovosice': 408, 'Loznica': 409, 'Lubeck': 410, 'Lubin': 411, 'Ludwigsburg': 412, 'Ludwigshafen': 413, 'Ludza': 414, 'Lund': 415, 'Luxembourg': 416, 'Luzern': 417, 'Lviv': 418, 'Lørenskog': 419, 'Lübbecke ': 420, 'Madeira': 421, 'Madinat al-Kuwayt': 422, 'Madinat ash Shamal': 423, 'Madrid': 424, 'Magdeburg': 425, 'Maglaj': 426, 'Mahdia': 427, 'Maia': 428, 'Malaga': 429, 'Malmö': 430, 'Mamak': 431, 'Manama': 432, 'Manchester': 433, 'Mannheim': 434, 'Maribor': 435, 'Mariupol': 436, 'Massy (Essonne)': 437, 'Matosinhos': 438, 'Mecca': 439, 'Melbourne': 440, 'Melhus': 441, 'Melsungen': 442, 'Merano ': 443, 'Mersch': 444, 'Metković': 445, 'Mezdra': 446, 'Mezőkövesd': 447, 'Mielec': 448, 'Minden': 449, 'Minsk': 450, 'Miyoshi': 451, 'Mleiha': 452, 'Modra': 453, 'Mohlin': 454, 'Mojkovac': 455, 'Moknine': 456, 'Montpellier': 457, 'Moscow': 458, 'Mosfellsbær': 459, 'Moss': 460, 'Mungyeong': 461, 'Märsta': 462, 'Naerbo': 463, 'Nagoya': 464, 'Nancy': 465, 'Nantes': 466, 'Nava de la Asunción': 467, 'Našice': 468, 'Nedenes': 469, 'Negotin': 470, 'Negotino': 471, 'Ness Ziona': 472, 'Neuhausen': 473, 'Nevesinje': 474, 'Nice': 475, 'Nicosia': 476, 'Nienburg': 477, 'Nikšić': 478, 'Nimes': 479, 'Niš': 480, 'Nordhorn': 481, 'Northeim': 482, 'Nottingham': 483, 'Nova Varoš': 484, 'Nove Zamky': 485, 'Novi Bečej': 486, 'Novi Pazar': 487, 'Novi Sad': 488, 'Novi Zagreb': 489, 'Novo Mesto': 490, 'Nové Veselí': 491, 'Nowa Sol': 492, 'Nuremberg': 493, 'Nykobing Mors': 494, 'Nykøbing Mors ': 495, 'Nærbø': 496, 'Nîmes': 497, 'Oborniki ': 498, 'Oborniki Slaskie': 499, 'Odder': 500, 'Odense': 501, 'Odessa': 502, 'Odorheiu Secuiesc': 503, 'Oftersheim': 504, 'Ogre': 505, 'Ohira': 506, 'Ohrid': 507, 'Okinawa': 508, 'Olsztyn': 509, 'Omiš': 510, 'Onojo': 511, 'Opladen': 512, 'Opole': 513, 'Oppenweiler': 514, 'Opuzen': 515, 'Oradea': 516, 'Oranienburg': 517, 'Orleans': 518, 'Ormož': 519, 'Orosháza': 520, 'Osijek': 521, 'Oslo': 522, 'Ostroleka': 523, 'Ostrow Wielkopolski': 524, 'Otterup': 525, 'Oviedo': 526, 'Ozd': 527, 'Pabianice': 528, 'Palma del Rio': 529, 'Pamplona': 530, 'Panningen': 531, 'Pančevo': 532, 'Paris': 533, 'Partille': 534, 'Pelt': 535, 'Perm': 536, 'Petange': 537, 'Pforzheim': 538, 'Pfullingen': 539, 'Piekary Slaskie': 540, 'Piotrków Trybunalski': 541, 'Piraeus': 542, 'Pljevlja': 543, 'Plzeň': 544, 'Podgorica': 545, 'Pohlheim': 546, 'Pontault-Combault ': 547, 'Pontevedra': 548, 'Poreč': 549, 'Porto': 550, 'Potsdam': 551, 'Považská Bystrica': 552, 'Povoa de Varzim': 553, 'Poznan': 554, 'Požarevac': 555, 'Požega': 556, 'Prague': 557, 'Prešov': 558, 'Priboj': 559, 'Prilep': 560, 'Prokuplje': 561, 'Przemysl': 562, 'Puente Genil': 563, 'Pula': 564, 'Pulawy': 565, 'Puławy': 566, 'Põlva': 567, 'Płock': 568, 'Radoviš': 569, 'Radovljica': 570, 'Radzymin': 571, 'Ramat Hasharon': 572, 'Raseborg': 573, 'Ratingen': 574, 'Rehovot': 575, 'Reykjavík': 576, 'Reșița': 577, 'Ribe': 578, 'Ribnica': 579, 'Riga': 580, 'Riihimaki': 581, 'Riihimäki': 582, 'Rijeka': 583, 'Rimbo': 584, 'Rimpar': 585, 'Ringsted': 586, 'Rishon LeZion': 587, 'Rodgau': 588, 'Roskilde': 589, 'Rostock': 590, 'Rovinj': 591, 'Royken': 592, 'Rubiera ': 593, 'Rugvica': 594, 'Rumelange': 595, 'Saarlouis': 596, 'Safaa Salih': 597, 'Safwa': 598, 'Sagunto': 599, 'Saihat': 600, 'Saint Petersburg': 601, 'Saint-Raphaël': 602, 'Sakarya': 603, 'Sakiet Ezzit': 604, 'Salaspils': 605, 'Salmiya': 606, 'Salzburg': 607, 'Samobor': 608, 'Sande': 609, 'Sandefjord': 610, 'Sandefjord ': 611, 'Sanderfjord': 612, 'Sandim': 613, 'Sandnes': 614, 'Sankt Pölten': 615, 'Sant Quirze del Vallès': 616, 'Santander': 617, 'Santo Tirso': 618, 'Sao Mamede': 619, 'Sao Mamede de Infesta': 620, 'Sao Paio de Oleiros': 621, 'Sao Paulo': 622, 'Sarajevo': 623, 'Saran': 624, 'Saratov': 625, 'Sarrebourg': 626, 'Schaffhausen': 627, 'Schalksmuhle': 628, 'Schifflange': 629, 'Schwaz': 630, 'Schwerin': 631, 'Selestat': 632, 'Selfoss': 633, 'Seltjarnarnes': 634, 'Sesvete': 635, 'Setubal': 636, 'Sevnica': 637, 'Sharjah ': 638, 'Shumen': 639, 'Siena': 640, 'Sierpc': 641, 'Silkeborg': 642, 'Singapore': 643, 'Siracusa': 644, 'Sisak': 645, 'Sittard-Geleen': 646, 'Siuntio': 647, 'Sivac': 648, 'Skanderborg': 649, 'Ski': 650, 'Skien': 651, 'Skive': 652, 'Skjern': 653, 'Skopje': 654, 'Skæring': 655, 'Skövde': 656, 'Slatina': 657, 'Slovenj Gradec': 658, 'Smederevo': 659, 'Snezhinsk': 660, 'Sofiemyr': 661, 'Soria': 662, 'Sosnowiec': 663, 'Sousse': 664, 'South Gyeongsang Province': 665, 'Spenge': 666, 'St. Gallen': 667, 'St. Gallen ': 668, 'Stafa': 669, 'Stans': 670, 'Stavanger': 671, 'Stavropol': 672, 'Stockholm': 673, 'Strakonice': 674, 'Stralsund': 675, 'Strasbourg': 676, 'Straume': 677, 'Stupava': 678, 'Stuttgart': 679, 'Subotica': 680, 'Suceava': 681, 'Suhr AG,  Aarau': 682, 'Swidnica': 683, 'Swiebodzin': 684, 'Sydney': 686, 'Szczecin': 687, 'Szeged': 688, 'Sønderborg': 689, 'Taganrog': 690, 'Tallinn': 691, 'Tapa': 692, 'Tarnow': 693, 'Tarnów': 694, 'Tatabanya': 695, 'Tatabánya': 696, 'Taubate': 697, 'Tbilisi': 698, 'Teboulba': 699, 'Teningen': 700, 'Thessaloniki': 701, 'Thun': 702, 'Timisoara': 703, 'Timișoara': 704, 'Tirol': 705, 'Tivat': 706, 'Tokat': 707, 'Tokyo': 708, 'Tonder': 709, 'Tongeren': 710, 'Tonsberg': 711, 'Topoľčany': 712, 'Torrelavega': 713, 'Toulouse': 714, 'Trabzon': 715, 'Traun': 716, 'Trebinje': 717, 'Trebnje': 718, 'Tremblay-en-France': 719, 'Trieste': 720, 'Trogir': 721, 'Tromso': 722, 'Trondheim': 723, 'Tunis': 724, 'Turda': 725, 'Turku': 726, 'Tuzla': 727, 'Tyresö': 728, 'Tønsberg': 729, 'Ub': 730, 'Ufa': 731, 'Ulset': 732, 'Umag': 733, 'Uzhhorod ': 734, 'Vainode': 735, 'Valence': 736, 'Valladolid': 737, 'Valletta': 738, 'Varaždin': 739, 'Varberg': 740, 'Varna': 741, 'Vaslui': 742, 'Vecses': 743, 'Velenje': 744, 'Velika Gorica': 745, 'Velika Nedelja': 746, 'Velika Plana': 747, 'Veria': 748, 'Vestmannaeyjar': 749, 'Veszprem': 750, 'Veszprém': 751, 'Vidovec': 752, 'Vienna': 753, 'Vila Nova de Gaia': 754, 'Vila do Porto': 755, 'Viljandi': 756, 'Villeurbanne': 757, 'Vilnius': 758, 'Vinkovci': 759, 'Vinslöv': 760, 'Virovitica': 761, 'Vise': 762, 'Viseu': 763, 'Visoko': 764, 'Vlasotince': 765, 'Vogošća': 766, 'Volendam': 767, 'Volgograd': 768, 'Vranje': 769, 'Vrbas': 770, 'Vrnjačka Banja': 771, 'Vác': 772, 'Västerås': 773, 'Waalwijk': 774, 'Wadenswil/Horgen': 775, 'Wagrowiec': 776, 'Waldbuttelbrunn ': 777, 'Wanderup': 778, 'Warrington': 779, 'Warszaw': 780, 'Wejherowo': 781, 'Wels': 782, 'Werder': 783, 'Wetzlar': 784, 'Wielun': 785, 'Wilhelmshaven': 786, 'Willstatt': 787, 'Winterthur': 788, 'Wolsztyn': 789, 'Wroclaw': 790, 'Wuppertal': 791, 'Wuppertal, Solingen': 792, 'Ystad': 793, 'Yuzhne': 794, 'Zabrze': 795, 'Zadar': 796, 'Zagreb': 797, 'Zamora': 798, 'Zaporizhia': 799, 'Zaporozhye': 800, 'Zarautz': 801, 'Zavidovići': 802, 'Zebbug': 803, 'Zielona Gora': 804, 'Zrenjanin': 805, 'Zubin Potok': 806, 'Zubří': 807, 'Zukowo': 808, 'Zurich': 809, 'Zvornik': 810, 'Zwartemeer': 811, 'Zwolen': 812, 'Zürich': 813, 'kofljica': 814, 'Önnered': 815, 'Ølstykke': 816, 'Čakovec': 817, 'Črnomelj': 818, 'Šabac': 819, 'Šaľa': 820, 'Šiauliai': 821, 'Škofja Loka': 822, 'Šmartno pri Litiji': 823, 'Železniki': 824, 'Žitoradja': 825, 'Živinica': 826, 'Župa dubrovačka': 827, nan: 836, 'Mogilev': 837}\n"
     ]
    }
   ],
   "source": [
    "dict_ciudades = {}\n",
    "for index, value in enumerate(df_ciudades.ciudad):\n",
    "    dict_ciudades[value] = index+1\n",
    "print(dict_ciudades)"
   ]
  },
  {
   "attachments": {},
   "cell_type": "markdown",
   "metadata": {},
   "source": [
    "## ARENAS"
   ]
  },
  {
   "cell_type": "code",
   "execution_count": 17,
   "metadata": {},
   "outputs": [
    {
     "name": "stdout",
     "output_type": "stream",
     "text": [
      "['AXA Arena', 'Anhalt Arena', 'Arena Bonifika', 'Arena Jaskolka Tarnow', 'Arena Kalisz', 'Arena Nürnberger Versicherung', 'Arena Skövde', 'Arena Uruchie', 'Arena du Pays d Aix', 'BBC-Arena', 'BallsportArena Dresden', 'Baltiska Hallen', 'Basel Rankhof', 'Bavnehoj-Hallen', 'Blue Water Dokken', 'Broager Sparekasse Skansen', 'Ceres Arena', 'Cocks Areena', 'Constantin Jude Hall', 'Dom Sportova Zagreb', 'Dr. Fejes Andras Sport', 'Dragao Caixa', 'Drammenshallen', 'Dvorana Hardek', 'Dvorana Tabor', 'EWS Arena', 'Eburons Dome', 'El Sargal', 'Elek Gyula Aréna', 'Ems-Halle', 'Eriksdalshallen', 'Erzgebirgshalle', 'Estrad Alingsås', 'Euregium ', 'Flens-Arena', 'Framohallen', 'Fredericia Idraetscenter', 'Friedrich-Ebert-Halle', 'GETEC Arena', 'Glaz Arena', 'Grakjær Arena', 'Gudme-Hallerne', 'HUK-Coburg arena', 'HWS AWFiS Gdansk', 'HWS Pogon', 'HWS RCS Lubin', 'HWS Ryszarda Matuszaka', 'Hala Legionów', 'Hala MOSiR Pulawy', 'Hala Zorka', 'Hall Omnisports de Vise', 'Halle Jean-Cochet', 'Hansehalle', 'Helsingborg Arena', 'Helsinge-Hallen', 'Henri Schmitz Sport Center', 'Jane Sandanski Arena', 'Jonkopings idrottshus', 'Jotunhallen', 'Jysk Arena', 'KWS Kwidzynskiego', 'Kampa-Halle', 'Kemeny Ferenc Sportcsarnok\\t', 'Kolstad Arena', 'Komlo Varosi Sportkozpont', 'Kristianstad Arena', 'Kungsbacka sporthall', 'Lascar Pana', 'Le Parnasse (Nîmes)', 'Le Phare', 'Leipzig Arena', 'Lipperlandhalle', 'MHPArena', 'Max-Schmeling-Halle', 'Melina Merkouri Indoor Hall', 'Messzi Istvan Sportcsarnok', 'Mobiliar Arena ', 'NEKA Sportcsarnok', 'Nadderud Arena', 'OBO Arena', 'Orlen Arena', 'Pabellón Alcalde Miguel Salas', 'Pabellón Anaitasuna', 'Pabellón Municipal Guerreras Naveros ', 'Pabellón Municipal O Gatañal', 'Pabellón Polideportivo Artaleku', 'Pabellón de La Albericia ', 'Palacio Multiusos de Guadalajara', 'Palacio Municipal de Deportes Huesca', 'Palacio de los Deportes de La Rioja', 'Palacio de los Deportes de León', 'Palais des Sports de Beaublanc', 'Palais des sports Andre-Brouat', 'Palais des sports Jean-François-Krakowski', 'Palais des sports René-Bougnol', 'Palais des sports d Orleans', 'Palais des sports de Beaulieu', 'Palau Blaugrana', 'Partille Arena', 'Pavilhao Joao Rocha', 'Pavilhao da Luz Nº2', 'Polideportivo Huerta del Rey', 'Porsche-Arena', 'Rdeča dvorana', 'Rene Hartmann Sport Center', 'Ringsted-Hallen', 'Rittal Arena Wetzlar', 'Rothenbach-Halle', 'Runarhallen', 'SAP Arena', 'SC Slana Bara', 'SC Voždovac', 'SC Šumice', 'Saalsporthalle', 'Sala Sporturilor Concordia', 'Sala Sporturilor Vaslui', 'Scandinavium', 'Schwalbe-Arena', 'Skjern Bank Arena', 'Sotonyi Laszlo Sportcsarnok', 'Sparbanken Skåne Arena', 'Sparebanken Sor Amfi', 'Sparekassen Thy Arena Mors', 'Sparkassen-Arena', 'Sparkassen-Arena (Balingen)', 'Sport Halle Krems', 'SportArena De Heuf', 'Sportanlage Kreuzbleiche', 'Sportcomplex De Damburg', 'Sporthal De Bloemhof', 'Sporthal Den Dijk', 'Sporthal de Opperdam', 'Sporthalle Hamburg', 'Sporthalle Lachen', 'Sporthalle Rieden-Vorkloster', 'Sporthalle Schachen', 'Sporthalle am See', 'Sports complex Victoria', 'Stade Pierre-de-Coubertin', 'Stade des Flandres', 'Stadthalle Rostock', 'Stegu Arena', 'Stiga Sports Arena', 'Sydbank Arena', 'TSV Bayer Sportcenter', 'Tatabanyai Multifunkcionalis Sportcsarnok', 'Tatran Handball Arena', 'Terningen Arena', 'Ujszegedi Sportcsarnok', 'Uni-Halle', 'Untermainhalle', 'Veszprem Arena', 'Werner-Aßmann-Halle', 'Westpress Arena', 'Ystad Arena', 'Yunist Palace of Sports', 'ZAG-Arena', 'Zlatorog Arena', 'Čair Sports Center']\n"
     ]
    }
   ],
   "source": [
    "lista_arenas = data_arenas['name'].unique()\n",
    "lista_arenas = sorted(list(set(lista_arenas)))\n",
    "print(lista_arenas)"
   ]
  },
  {
   "cell_type": "code",
   "execution_count": 18,
   "metadata": {},
   "outputs": [
    {
     "name": "stdout",
     "output_type": "stream",
     "text": [
      "INSERT INTO arenas (arena)\n",
      "VALUES\n",
      "(\"AXA Arena\", 19000),(\"Anhalt Arena\", 12000),(\"Arena Bonifika\", 28000),(\"Arena Jaskolka Tarnow\", 26000),(\"Arena Kalisz\", 16000),(\"Arena Nürnberger Versicherung\", 27000),(\"Arena Skövde\", 24000),(\"Arena Uruchie\", 23000),(\"Arena du Pays d Aix\", 13000),(\"BBC-Arena\", 26000),(\"BallsportArena Dresden\", 23000),(\"Baltiska Hallen\", 12000),(\"Basel Rankhof\", 18000),(\"Bavnehoj-Hallen\", 18000),(\"Blue Water Dokken\", 28000),(\"Broager Sparekasse Skansen\", 22000),(\"Ceres Arena\", 23000),(\"Cocks Areena\", 23000),(\"Constantin Jude Hall\", 19000),(\"Dom Sportova Zagreb\", 28000),(\"Dr. Fejes Andras Sport\", 19000),(\"Dragao Caixa\", 18000),(\"Drammenshallen\", 24000),(\"Dvorana Hardek\", 22000),(\"Dvorana Tabor\", 17000),(\"EWS Arena\", 12000),(\"Eburons Dome\", 26000),(\"El Sargal\", 21000),(\"Elek Gyula Aréna\", 22000),(\"Ems-Halle\", 27000),(\"Eriksdalshallen\", 11000),(\"Erzgebirgshalle\", 26000),(\"Estrad Alingsås\", 25000),(\"Euregium \", 23000),(\"Flens-Arena\", 24000),(\"Framohallen\", 28000),(\"Fredericia Idraetscenter\", 18000),(\"Friedrich-Ebert-Halle\", 28000),(\"GETEC Arena\", 15000),(\"Glaz Arena\", 25000),(\"Grakjær Arena\", 13000),(\"Gudme-Hallerne\", 19000),(\"HUK-Coburg arena\", 10000),(\"HWS AWFiS Gdansk\", 17000),(\"HWS Pogon\", 11000),(\"HWS RCS Lubin\", 22000),(\"HWS Ryszarda Matuszaka\", 17000),(\"Hala Legionów\", 18000),(\"Hala MOSiR Pulawy\", 13000),(\"Hala Zorka\", 26000),(\"Hall Omnisports de Vise\", 14000),(\"Halle Jean-Cochet\", 17000),(\"Hansehalle\", 18000),(\"Helsingborg Arena\", 12000),(\"Helsinge-Hallen\", 16000),(\"Henri Schmitz Sport Center\", 27000),(\"Jane Sandanski Arena\", 14000),(\"Jonkopings idrottshus\", 23000),(\"Jotunhallen\", 14000),(\"Jysk Arena\", 15000),(\"KWS Kwidzynskiego\", 20000),(\"Kampa-Halle\", 18000),(\"Kemeny Ferenc Sportcsarnok\t\", 28000),(\"Kolstad Arena\", 26000),(\"Komlo Varosi Sportkozpont\", 15000),(\"Kristianstad Arena\", 23000),(\"Kungsbacka sporthall\", 26000),(\"Lascar Pana\", 25000),(\"Le Parnasse (Nîmes)\", 30000),(\"Le Phare\", 14000),(\"Leipzig Arena\", 27000),(\"Lipperlandhalle\", 25000),(\"MHPArena\", 24000),(\"Max-Schmeling-Halle\", 29000),(\"Melina Merkouri Indoor Hall\", 19000),(\"Messzi Istvan Sportcsarnok\", 10000),(\"Mobiliar Arena \", 16000),(\"NEKA Sportcsarnok\", 24000),(\"Nadderud Arena\", 23000),(\"OBO Arena\", 29000),(\"Orlen Arena\", 23000),(\"Pabellón Alcalde Miguel Salas\", 27000),(\"Pabellón Anaitasuna\", 12000),(\"Pabellón Municipal Guerreras Naveros \", 30000),(\"Pabellón Municipal O Gatañal\", 18000),(\"Pabellón Polideportivo Artaleku\", 28000),(\"Pabellón de La Albericia \", 20000),(\"Palacio Multiusos de Guadalajara\", 13000),(\"Palacio Municipal de Deportes Huesca\", 19000),(\"Palacio de los Deportes de La Rioja\", 16000),(\"Palacio de los Deportes de León\", 27000),(\"Palais des Sports de Beaublanc\", 19000),(\"Palais des sports Andre-Brouat\", 25000),(\"Palais des sports Jean-François-Krakowski\", 21000),(\"Palais des sports René-Bougnol\", 11000),(\"Palais des sports d Orleans\", 18000),(\"Palais des sports de Beaulieu\", 18000),(\"Palau Blaugrana\", 17000),(\"Partille Arena\", 29000),(\"Pavilhao Joao Rocha\", 15000),(\"Pavilhao da Luz Nº2\", 25000),(\"Polideportivo Huerta del Rey\", 11000),(\"Porsche-Arena\", 29000),(\"Rdeča dvorana\", 11000),(\"Rene Hartmann Sport Center\", 17000),(\"Ringsted-Hallen\", 23000),(\"Rittal Arena Wetzlar\", 25000),(\"Rothenbach-Halle\", 11000),(\"Runarhallen\", 13000),(\"SAP Arena\", 25000),(\"SC Slana Bara\", 25000),(\"SC Voždovac\", 26000),(\"SC Šumice\", 25000),(\"Saalsporthalle\", 13000),(\"Sala Sporturilor Concordia\", 19000),(\"Sala Sporturilor Vaslui\", 21000),(\"Scandinavium\", 15000),(\"Schwalbe-Arena\", 23000),(\"Skjern Bank Arena\", 16000),(\"Sotonyi Laszlo Sportcsarnok\", 11000),(\"Sparbanken Skåne Arena\", 22000),(\"Sparebanken Sor Amfi\", 11000),(\"Sparekassen Thy Arena Mors\", 15000),(\"Sparkassen-Arena\", 22000),(\"Sparkassen-Arena (Balingen)\", 26000),(\"Sport Halle Krems\", 17000),(\"SportArena De Heuf\", 25000),(\"Sportanlage Kreuzbleiche\", 21000),(\"Sportcomplex De Damburg\", 28000),(\"Sporthal De Bloemhof\", 16000),(\"Sporthal Den Dijk\", 16000),(\"Sporthal de Opperdam\", 21000),(\"Sporthalle Hamburg\", 17000),(\"Sporthalle Lachen\", 13000),(\"Sporthalle Rieden-Vorkloster\", 23000),(\"Sporthalle Schachen\", 16000),(\"Sporthalle am See\", 27000),(\"Sports complex Victoria\", 24000),(\"Stade Pierre-de-Coubertin\", 16000),(\"Stade des Flandres\", 14000),(\"Stadthalle Rostock\", 30000),(\"Stegu Arena\", 16000),(\"Stiga Sports Arena\", 30000),(\"Sydbank Arena\", 28000),(\"TSV Bayer Sportcenter\", 26000),(\"Tatabanyai Multifunkcionalis Sportcsarnok\", 11000),(\"Tatran Handball Arena\", 20000),(\"Terningen Arena\", 21000),(\"Ujszegedi Sportcsarnok\", 13000),(\"Uni-Halle\", 30000),(\"Untermainhalle\", 17000),(\"Veszprem Arena\", 14000),(\"Werner-Aßmann-Halle\", 16000),(\"Westpress Arena\", 23000),(\"Ystad Arena\", 10000),(\"Yunist Palace of Sports\", 27000),(\"ZAG-Arena\", 13000),(\"Zlatorog Arena\", 14000),(\"Čair Sports Center\", 14000);\n"
     ]
    }
   ],
   "source": [
    "print (\"INSERT INTO arenas (arena)\")\n",
    "print(\"VALUES\")\n",
    "texto = \"\"\n",
    "for i in lista_arenas:\n",
    "    a = round(random.randint(10000,30000), -3)\n",
    "    texto += '(\"{0}\", {1}),'.format(i, a)\n",
    "print(texto[:-1]+\";\")"
   ]
  },
  {
   "cell_type": "code",
   "execution_count": 19,
   "metadata": {},
   "outputs": [
    {
     "name": "stdout",
     "output_type": "stream",
     "text": [
      "{'AXA Arena': 1, 'Anhalt Arena': 2, 'Arena Bonifika': 3, 'Arena Jaskolka Tarnow': 4, 'Arena Kalisz': 5, 'Arena Nürnberger Versicherung': 6, 'Arena Skövde': 7, 'Arena Uruchie': 8, 'Arena du Pays d Aix': 9, 'BBC-Arena': 10, 'BallsportArena Dresden': 11, 'Baltiska Hallen': 12, 'Basel Rankhof': 13, 'Bavnehoj-Hallen': 14, 'Blue Water Dokken': 15, 'Broager Sparekasse Skansen': 16, 'Ceres Arena': 17, 'Cocks Areena': 18, 'Constantin Jude Hall': 19, 'Dom Sportova Zagreb': 20, 'Dr. Fejes Andras Sport': 21, 'Dragao Caixa': 22, 'Drammenshallen': 23, 'Dvorana Hardek': 24, 'Dvorana Tabor': 25, 'EWS Arena': 26, 'Eburons Dome': 27, 'El Sargal': 28, 'Elek Gyula Aréna': 29, 'Ems-Halle': 30, 'Eriksdalshallen': 31, 'Erzgebirgshalle': 32, 'Estrad Alingsås': 33, 'Euregium ': 34, 'Flens-Arena': 35, 'Framohallen': 36, 'Fredericia Idraetscenter': 37, 'Friedrich-Ebert-Halle': 38, 'GETEC Arena': 39, 'Glaz Arena': 40, 'Grakjær Arena': 41, 'Gudme-Hallerne': 42, 'HUK-Coburg arena': 43, 'HWS AWFiS Gdansk': 44, 'HWS Pogon': 45, 'HWS RCS Lubin': 46, 'HWS Ryszarda Matuszaka': 47, 'Hala Legionów': 48, 'Hala MOSiR Pulawy': 49, 'Hala Zorka': 50, 'Hall Omnisports de Vise': 51, 'Halle Jean-Cochet': 52, 'Hansehalle': 53, 'Helsingborg Arena': 54, 'Helsinge-Hallen': 55, 'Henri Schmitz Sport Center': 56, 'Jane Sandanski Arena': 57, 'Jonkopings idrottshus': 58, 'Jotunhallen': 59, 'Jysk Arena': 60, 'KWS Kwidzynskiego': 61, 'Kampa-Halle': 62, 'Kemeny Ferenc Sportcsarnok\\t': 63, 'Kolstad Arena': 64, 'Komlo Varosi Sportkozpont': 65, 'Kristianstad Arena': 66, 'Kungsbacka sporthall': 67, 'Lascar Pana': 68, 'Le Parnasse (Nîmes)': 69, 'Le Phare': 70, 'Leipzig Arena': 71, 'Lipperlandhalle': 72, 'MHPArena': 73, 'Max-Schmeling-Halle': 74, 'Melina Merkouri Indoor Hall': 75, 'Messzi Istvan Sportcsarnok': 76, 'Mobiliar Arena ': 77, 'NEKA Sportcsarnok': 78, 'Nadderud Arena': 79, 'OBO Arena': 80, 'Orlen Arena': 81, 'Pabellón Alcalde Miguel Salas': 82, 'Pabellón Anaitasuna': 83, 'Pabellón Municipal Guerreras Naveros ': 84, 'Pabellón Municipal O Gatañal': 85, 'Pabellón Polideportivo Artaleku': 86, 'Pabellón de La Albericia ': 87, 'Palacio Multiusos de Guadalajara': 88, 'Palacio Municipal de Deportes Huesca': 89, 'Palacio de los Deportes de La Rioja': 90, 'Palacio de los Deportes de León': 91, 'Palais des Sports de Beaublanc': 92, 'Palais des sports Andre-Brouat': 93, 'Palais des sports Jean-François-Krakowski': 94, 'Palais des sports René-Bougnol': 95, 'Palais des sports d Orleans': 96, 'Palais des sports de Beaulieu': 97, 'Palau Blaugrana': 98, 'Partille Arena': 99, 'Pavilhao Joao Rocha': 100, 'Pavilhao da Luz Nº2': 101, 'Polideportivo Huerta del Rey': 102, 'Porsche-Arena': 103, 'Rdeča dvorana': 104, 'Rene Hartmann Sport Center': 105, 'Ringsted-Hallen': 106, 'Rittal Arena Wetzlar': 107, 'Rothenbach-Halle': 108, 'Runarhallen': 109, 'SAP Arena': 110, 'SC Slana Bara': 111, 'SC Voždovac': 112, 'SC Šumice': 113, 'Saalsporthalle': 114, 'Sala Sporturilor Concordia': 115, 'Sala Sporturilor Vaslui': 116, 'Scandinavium': 117, 'Schwalbe-Arena': 118, 'Skjern Bank Arena': 119, 'Sotonyi Laszlo Sportcsarnok': 120, 'Sparbanken Skåne Arena': 121, 'Sparebanken Sor Amfi': 122, 'Sparekassen Thy Arena Mors': 123, 'Sparkassen-Arena': 124, 'Sparkassen-Arena (Balingen)': 125, 'Sport Halle Krems': 126, 'SportArena De Heuf': 127, 'Sportanlage Kreuzbleiche': 128, 'Sportcomplex De Damburg': 129, 'Sporthal De Bloemhof': 130, 'Sporthal Den Dijk': 131, 'Sporthal de Opperdam': 132, 'Sporthalle Hamburg': 133, 'Sporthalle Lachen': 134, 'Sporthalle Rieden-Vorkloster': 135, 'Sporthalle Schachen': 136, 'Sporthalle am See': 137, 'Sports complex Victoria': 138, 'Stade Pierre-de-Coubertin': 139, 'Stade des Flandres': 140, 'Stadthalle Rostock': 141, 'Stegu Arena': 142, 'Stiga Sports Arena': 143, 'Sydbank Arena': 144, 'TSV Bayer Sportcenter': 145, 'Tatabanyai Multifunkcionalis Sportcsarnok': 146, 'Tatran Handball Arena': 147, 'Terningen Arena': 148, 'Ujszegedi Sportcsarnok': 149, 'Uni-Halle': 150, 'Untermainhalle': 151, 'Veszprem Arena': 152, 'Werner-Aßmann-Halle': 153, 'Westpress Arena': 154, 'Ystad Arena': 155, 'Yunist Palace of Sports': 156, 'ZAG-Arena': 157, 'Zlatorog Arena': 158, 'Čair Sports Center': 159}\n"
     ]
    }
   ],
   "source": [
    "dict_arenas = {}\n",
    "for index, value in enumerate(lista_arenas):\n",
    "    dict_arenas[value] = index+1\n",
    "print(dict_arenas)"
   ]
  },
  {
   "attachments": {},
   "cell_type": "markdown",
   "metadata": {},
   "source": [
    "## LIGAS"
   ]
  },
  {
   "cell_type": "code",
   "execution_count": 20,
   "metadata": {},
   "outputs": [
    {
     "name": "stdout",
     "output_type": "stream",
     "text": [
      "119\n"
     ]
    },
    {
     "data": {
      "text/html": [
       "<div>\n",
       "<style scoped>\n",
       "    .dataframe tbody tr th:only-of-type {\n",
       "        vertical-align: middle;\n",
       "    }\n",
       "\n",
       "    .dataframe tbody tr th {\n",
       "        vertical-align: top;\n",
       "    }\n",
       "\n",
       "    .dataframe thead th {\n",
       "        text-align: right;\n",
       "    }\n",
       "</style>\n",
       "<table border=\"1\" class=\"dataframe\">\n",
       "  <thead>\n",
       "    <tr style=\"text-align: right;\">\n",
       "      <th></th>\n",
       "      <th>liga</th>\n",
       "      <th>idPais</th>\n",
       "    </tr>\n",
       "  </thead>\n",
       "  <tbody>\n",
       "    <tr>\n",
       "      <th>0</th>\n",
       "      <td>1. A DRL (Slovenia)</td>\n",
       "      <td>Croatia</td>\n",
       "    </tr>\n",
       "    <tr>\n",
       "      <th>1</th>\n",
       "      <td>1. A DRL (Slovenia)</td>\n",
       "      <td>Singapore</td>\n",
       "    </tr>\n",
       "    <tr>\n",
       "      <th>2</th>\n",
       "      <td>1. B DRL - moški (Slovenia)</td>\n",
       "      <td>Slovenia</td>\n",
       "    </tr>\n",
       "    <tr>\n",
       "      <th>3</th>\n",
       "      <td>1. HRL (North) (Croatia)</td>\n",
       "      <td>Croatia</td>\n",
       "    </tr>\n",
       "    <tr>\n",
       "      <th>4</th>\n",
       "      <td>1. HRL (South) (Croatia)</td>\n",
       "      <td>Croatia</td>\n",
       "    </tr>\n",
       "  </tbody>\n",
       "</table>\n",
       "</div>"
      ],
      "text/plain": [
       "                          liga     idPais\n",
       "0          1. A DRL (Slovenia)    Croatia\n",
       "1          1. A DRL (Slovenia)  Singapore\n",
       "2  1. B DRL - moški (Slovenia)   Slovenia\n",
       "3    1. HRL (North) (Croatia)     Croatia\n",
       "4     1. HRL (South) (Croatia)    Croatia"
      ]
     },
     "execution_count": 20,
     "metadata": {},
     "output_type": "execute_result"
    }
   ],
   "source": [
    "df_ligas = data_clubs[['league', 'country']]\n",
    "df_ligas = df_ligas.drop_duplicates(subset=['league', 'country'])\\\n",
    "    .sort_values(['league', 'country'])\\\n",
    "    .reset_index(drop=True)\\\n",
    "    .rename(columns={'league':'liga', 'country':'idPais'})\n",
    "print(len(df_ligas))\n",
    "df_ligas.head()"
   ]
  },
  {
   "cell_type": "code",
   "execution_count": 21,
   "metadata": {},
   "outputs": [
    {
     "data": {
      "text/html": [
       "<div>\n",
       "<style scoped>\n",
       "    .dataframe tbody tr th:only-of-type {\n",
       "        vertical-align: middle;\n",
       "    }\n",
       "\n",
       "    .dataframe tbody tr th {\n",
       "        vertical-align: top;\n",
       "    }\n",
       "\n",
       "    .dataframe thead th {\n",
       "        text-align: right;\n",
       "    }\n",
       "</style>\n",
       "<table border=\"1\" class=\"dataframe\">\n",
       "  <thead>\n",
       "    <tr style=\"text-align: right;\">\n",
       "      <th></th>\n",
       "      <th>liga</th>\n",
       "      <th>idPais</th>\n",
       "    </tr>\n",
       "  </thead>\n",
       "  <tbody>\n",
       "    <tr>\n",
       "      <th>0</th>\n",
       "      <td>1. A DRL (Slovenia)</td>\n",
       "      <td>18</td>\n",
       "    </tr>\n",
       "    <tr>\n",
       "      <th>1</th>\n",
       "      <td>1. A DRL (Slovenia)</td>\n",
       "      <td>63</td>\n",
       "    </tr>\n",
       "    <tr>\n",
       "      <th>2</th>\n",
       "      <td>1. B DRL - moški (Slovenia)</td>\n",
       "      <td>65</td>\n",
       "    </tr>\n",
       "    <tr>\n",
       "      <th>3</th>\n",
       "      <td>1. HRL (North) (Croatia)</td>\n",
       "      <td>18</td>\n",
       "    </tr>\n",
       "    <tr>\n",
       "      <th>4</th>\n",
       "      <td>1. HRL (South) (Croatia)</td>\n",
       "      <td>18</td>\n",
       "    </tr>\n",
       "  </tbody>\n",
       "</table>\n",
       "</div>"
      ],
      "text/plain": [
       "                          liga  idPais\n",
       "0          1. A DRL (Slovenia)      18\n",
       "1          1. A DRL (Slovenia)      63\n",
       "2  1. B DRL - moški (Slovenia)      65\n",
       "3    1. HRL (North) (Croatia)       18\n",
       "4     1. HRL (South) (Croatia)      18"
      ]
     },
     "execution_count": 21,
     "metadata": {},
     "output_type": "execute_result"
    }
   ],
   "source": [
    "df_ligas.loc[30, 'idPais'] = 'Belarus'\n",
    "df_ligas.loc[57, 'idPais'] = 'Germany'\n",
    "df_ligas.loc[117, 'idPais'] = 'Germany'\n",
    "df_ligas.loc[118, 'liga'] = '2.HBL (Germany)'\n",
    "df_ligas.loc[118, 'idPais'] = 'Germany'\n",
    "\n",
    "df_ligas['idPais'] = df_ligas['idPais'].map(lambda x: dict_paises[x])\n",
    "df_ligas.head()"
   ]
  },
  {
   "cell_type": "code",
   "execution_count": 22,
   "metadata": {},
   "outputs": [
    {
     "name": "stdout",
     "output_type": "stream",
     "text": [
      "INSERT INTO ligas (liga, idPais)\n",
      "VALUES\n",
      "(\"1. A DRL (Slovenia)\", \"18\"),(\"1. A DRL (Slovenia)\", \"63\"),(\"1. B DRL - moški (Slovenia)\", \"65\"),(\"1. HRL (North) (Croatia) \", \"18\"),(\"1. HRL (South) (Croatia)\", \"18\"),(\"1. NLB Leasing Liga (Slovenia)\", \"65\"),(\"2. Division (Luxembourg)\", \"46\"),(\"2. Division (Portugal)\", \"56\"),(\"2. Division - Group 01 (Norway)\", \"54\"),(\"2. Division - Group 02 (Norway)\", \"54\"),(\"2. Division - Group 03 (Norway)\", \"54\"),(\"2. Division - Group 04 (Norway)\", \"54\"),(\"2.HBL (Germany)\", \"33\"),(\"2.HBL (Germany)\", \"73\"),(\"3. League - East (Germany)\", \"33\"),(\"3. League - North (Germany)\", \"33\"),(\"3. League - South (Germany)\", \"33\"),(\"3. League - South West (Germany)\", \"33\"),(\"3. League - West (Germany)\", \"33\"),(\"AXA League (Luxembourg)\", \"46\"),(\"Allsvenskan (Sweden)\", \"68\"),(\"Andebol 1 (Portugal)\", \"33\"),(\"Andebol 1 (Portugal)\", \"56\"),(\"Arkus Liga (Serbia)\", \"62\"),(\"Australian Handball Club Championships\", \"5\"),(\"Australian Handball Club Championships\", \"6\"),(\"Azerbaijan Premier League (Azerbaijan)\", \"7\"),(\"BENE-League\", \"10\"),(\"BENE-League\", \"52\"),(\"Belarusian Superleague (Belarus)\", \"9\"),(\"Belarusian Superleague (Belarus)\", \"9\"),(\"Brazilian Handball League\", \"12\"),(\"Bulgarian GHR A (Bulgaria)\", \"13\"),(\"Central League (Poland)\", \"55\"),(\"Cyprus League (Cyprus)\", \"20\"),(\"Denmark 1. Division (Denmark)\", \"22\"),(\"Division de Honor Plata (Spain)\", \"67\"),(\"Egypt Handball League\", \"25\"),(\"Faroe Islands Handball League (Faroe Islands)\", \"28\"),(\"Georgia Handball League (Georgia)\", \"32\"),(\"Handball Korea League (South Korea)\", \"66\"),(\"Handball Premier (Greece)\", \"34\"),(\"Handball-Regionalliga Nordrhein\", \"33\"),(\"Handbollsligan (Sweden)\", \"68\"),(\"Herre Håndbold Ligaen (Denmark)\", \"22\"),(\"I League - Group A (Poland)\", \"55\"),(\"I League - Group B (Poland)\", \"55\"),(\"I League - Group C (Poland)\", \"55\"),(\"Iran Premier League\", \"38\"),(\"JHL (Japan)\", \"41\"),(\"K&amp;H Liga (Hungary)\", \"35\"),(\"Khalid Bin Hamad Bahrain Handball League\", \"8\"),(\"Kuwait League\", \"43\"),(\"Lietuvos Rankinio Lyga (Lithuania)\", \"45\"),(\"Liga Zimbrilor (Romania)\", \"58\"),(\"Ligat Winner (Israel)\", \"39\"),(\"Liqui Moly HBL (Germany)\", \"33\"),(\"Liqui Moly HBL (Germany)\", \"33\"),(\"Liqui Moly Starligue (France)\", \"30\"),(\"MNLB (Switzerland)\", \"69\"),(\"Macedonian Super Liga (North Macedonia)\", \"47\"),(\"Malta 1. Division (Malta)\", \"48\"),(\"Meistriliiga (Estonia)\", \"27\"),(\"Montenegro Prva Liga (Montenegro)\", \"50\"),(\"NB I/B East (Hungary)\", \"35\"),(\"Norway 1. Division (Norway)\", \"54\"),(\"Olis Deildin (Iceland)\", \"36\"),(\"PGNiG Superliga (Poland)\", \"55\"),(\"Premier Handball League (England)\", \"26\"),(\"Premijer Liga (Croatia)\", \"18\"),(\"Premijer liga BiH (Bosnia and Herzegovina)\", \"11\"),(\"Primera Nacional (Spain)\", \"67\"),(\"Prince Faisal bin Fahad Saudi Handball League\", \"60\"),(\"Proligue (France)\", \"30\"),(\"Qatar handball league\", \"57\"),(\"REMA 1000-ligaen (Norway)\", \"54\"),(\"Russian Super League (Russia)\", \"59\"),(\"SM-liiga (Finland)\", \"29\"),(\"SPUSU Liga (Austria)\", \"6\"),(\"Sacyr Asobal League (Spain)\", \"67\"),(\"Serbian Super B League (East - West)\", \"62\"),(\"Serbian Super B League (North-Center)\", \"62\"),(\"Serie A (Italy)\", \"40\"),(\"Slovakian Extraliga (Slovakia)\", \"64\"),(\"Strabag Rail Extraliga (Czech)\", \"21\"),(\"Swiss Handball League (Switzerland)\", \"69\"),(\"SynotTip Virsliga (Latvia)\", \"44\"),(\"Tunisian Handball League\", \"70\"),(\"Turkish Superlig (Turkey)\", \"71\"),(\"UAE League (UAE)\", \"74\"),(\"Ukrainian Superleague (Ukraine)\", \"73\"),(\"ZTE Challenge Liga - East and South (Austria)\", \"6\"),(\"ZTE Challenge Liga - North and West (Austria)\", \"6\"),(\"no info\", \"10\"),(\"no info\", \"18\"),(\"no info\", \"22\"),(\"no info\", \"30\"),(\"no info\", \"34\"),(\"no info\", \"35\"),(\"no info\", \"36\"),(\"no info\", \"40\"),(\"no info\", \"44\"),(\"no info\", \"45\"),(\"no info\", \"46\"),(\"no info\", \"47\"),(\"no info\", \"52\"),(\"no info\", \"54\"),(\"no info\", \"56\"),(\"no info\", \"58\"),(\"no info\", \"59\"),(\"no info\", \"62\"),(\"no info\", \"65\"),(\"no info\", \"67\"),(\"no info\", \"68\"),(\"no info\", \"69\"),(\"no info\", \"71\"),(\"no info\", \"73\"),(\"no info\", \"33\"),(\"2.HBL (Germany)\", \"33\");\n"
     ]
    }
   ],
   "source": [
    "print (\"INSERT INTO ligas (liga, idPais)\")\n",
    "print(\"VALUES\")\n",
    "texto = \"\"\n",
    "for i in range(len(df_ligas)):\n",
    "    texto += '(\"{0}\", \"{1}\"),'.format(df_ligas.loc[i, \"liga\"], df_ligas.loc[i, \"idPais\"])\n",
    "print(texto[:-1]+\";\")"
   ]
  },
  {
   "cell_type": "code",
   "execution_count": 23,
   "metadata": {},
   "outputs": [
    {
     "name": "stdout",
     "output_type": "stream",
     "text": [
      "{'1. A DRL (Slovenia)': 1, '1. B DRL - moški (Slovenia)': 2, '1. HRL (North) (Croatia) ': 3, '1. HRL (South) (Croatia)': 4, '1. NLB Leasing Liga (Slovenia)': 5, '2. Division (Luxembourg)': 6, '2. Division (Portugal)': 7, '2. Division - Group 01 (Norway)': 8, '2. Division - Group 02 (Norway)': 9, '2. Division - Group 03 (Norway)': 10, '2. Division - Group 04 (Norway)': 11, '2.HBL (Germany)': 118, '3. League - East (Germany)': 14, '3. League - North (Germany)': 15, '3. League - South (Germany)': 16, '3. League - South West (Germany)': 17, '3. League - West (Germany)': 18, 'AXA League (Luxembourg)': 19, 'Allsvenskan (Sweden)': 20, 'Andebol 1 (Portugal)': 22, 'Arkus Liga (Serbia)': 23, 'Australian Handball Club Championships': 25, 'Azerbaijan Premier League (Azerbaijan)': 26, 'BENE-League': 28, 'Belarusian Superleague (Belarus)': 30, 'Brazilian Handball League': 31, 'Bulgarian GHR A (Bulgaria)': 32, 'Central League (Poland)': 33, 'Cyprus League (Cyprus)': 34, 'Denmark 1. Division (Denmark)': 35, 'Division de Honor Plata (Spain)': 36, 'Egypt Handball League': 37, 'Faroe Islands Handball League (Faroe Islands)': 38, 'Georgia Handball League (Georgia)': 39, 'Handball Korea League (South Korea)': 40, 'Handball Premier (Greece)': 41, 'Handball-Regionalliga Nordrhein': 42, 'Handbollsligan (Sweden)': 43, 'Herre Håndbold Ligaen (Denmark)': 44, 'I League - Group A (Poland)': 45, 'I League - Group B (Poland)': 46, 'I League - Group C (Poland)': 47, 'Iran Premier League': 48, 'JHL (Japan)': 49, 'K&amp;H Liga (Hungary)': 50, 'Khalid Bin Hamad Bahrain Handball League': 51, 'Kuwait League': 52, 'Lietuvos Rankinio Lyga (Lithuania)': 53, 'Liga Zimbrilor (Romania)': 54, 'Ligat Winner (Israel)': 55, 'Liqui Moly HBL (Germany)': 57, 'Liqui Moly Starligue (France)': 58, 'MNLB (Switzerland)': 59, 'Macedonian Super Liga (North Macedonia)': 60, 'Malta 1. Division (Malta)': 61, 'Meistriliiga (Estonia)': 62, 'Montenegro Prva Liga (Montenegro)': 63, 'NB I/B East (Hungary)': 64, 'Norway 1. Division (Norway)': 65, 'Olis Deildin (Iceland)': 66, 'PGNiG Superliga (Poland)': 67, 'Premier Handball League (England)': 68, 'Premijer Liga (Croatia)': 69, 'Premijer liga BiH (Bosnia and Herzegovina)': 70, 'Primera Nacional (Spain)': 71, 'Prince Faisal bin Fahad Saudi Handball League': 72, 'Proligue (France)': 73, 'Qatar handball league': 74, 'REMA 1000-ligaen (Norway)': 75, 'Russian Super League (Russia)': 76, 'SM-liiga (Finland)': 77, 'SPUSU Liga (Austria)': 78, 'Sacyr Asobal League (Spain)': 79, 'Serbian Super B League (East - West)': 80, 'Serbian Super B League (North-Center)': 81, 'Serie A (Italy)': 82, 'Slovakian Extraliga (Slovakia)': 83, 'Strabag Rail Extraliga (Czech)': 84, 'Swiss Handball League (Switzerland)': 85, 'SynotTip Virsliga (Latvia)': 86, 'Tunisian Handball League': 87, 'Turkish Superlig (Turkey)': 88, 'UAE League (UAE)': 89, 'Ukrainian Superleague (Ukraine)': 90, 'ZTE Challenge Liga - East and South (Austria)': 91, 'ZTE Challenge Liga - North and West (Austria)': 92, 'no info': 117}\n"
     ]
    }
   ],
   "source": [
    "dict_ligas = {}\n",
    "for index, value in enumerate(df_ligas.liga):\n",
    "    dict_ligas[value] = index\n",
    "print(dict_ligas)"
   ]
  },
  {
   "attachments": {},
   "cell_type": "markdown",
   "metadata": {},
   "source": [
    "## JUGADORES"
   ]
  },
  {
   "cell_type": "code",
   "execution_count": 24,
   "metadata": {},
   "outputs": [
    {
     "data": {
      "text/html": [
       "<div>\n",
       "<style scoped>\n",
       "    .dataframe tbody tr th:only-of-type {\n",
       "        vertical-align: middle;\n",
       "    }\n",
       "\n",
       "    .dataframe tbody tr th {\n",
       "        vertical-align: top;\n",
       "    }\n",
       "\n",
       "    .dataframe thead th {\n",
       "        text-align: right;\n",
       "    }\n",
       "</style>\n",
       "<table border=\"1\" class=\"dataframe\">\n",
       "  <thead>\n",
       "    <tr style=\"text-align: right;\">\n",
       "      <th></th>\n",
       "      <th>Unnamed: 0</th>\n",
       "      <th>name</th>\n",
       "      <th>name_search</th>\n",
       "      <th>nationality</th>\n",
       "      <th>birth date</th>\n",
       "      <th>height</th>\n",
       "      <th>position</th>\n",
       "      <th>status</th>\n",
       "      <th>club</th>\n",
       "      <th>club_search</th>\n",
       "      <th>country</th>\n",
       "      <th>league</th>\n",
       "      <th>weight</th>\n",
       "    </tr>\n",
       "  </thead>\n",
       "  <tbody>\n",
       "    <tr>\n",
       "      <th>0</th>\n",
       "      <td>0</td>\n",
       "      <td>Ali Kouhzad</td>\n",
       "      <td>ali-kouhzad</td>\n",
       "      <td>Iran</td>\n",
       "      <td>19.12.1996.</td>\n",
       "      <td>198 cm</td>\n",
       "      <td>Line Player</td>\n",
       "      <td>active</td>\n",
       "      <td>SS Kazeroon Club</td>\n",
       "      <td>\"ss-kazeroon-club\"</td>\n",
       "      <td>Iran</td>\n",
       "      <td>Iran Premier League</td>\n",
       "      <td>NaN</td>\n",
       "    </tr>\n",
       "    <tr>\n",
       "      <th>1</th>\n",
       "      <td>1</td>\n",
       "      <td>Shahab Sadeghzadeh</td>\n",
       "      <td>shahab-sadeghzadeh</td>\n",
       "      <td>Iran</td>\n",
       "      <td>28.03.1994.</td>\n",
       "      <td>192 cm</td>\n",
       "      <td>Left Back</td>\n",
       "      <td>active</td>\n",
       "      <td>Sepahan</td>\n",
       "      <td>\"sepahan\"</td>\n",
       "      <td>Iran</td>\n",
       "      <td>Iran Premier League</td>\n",
       "      <td>NaN</td>\n",
       "    </tr>\n",
       "    <tr>\n",
       "      <th>2</th>\n",
       "      <td>2</td>\n",
       "      <td>Omid Reza Sarpoushi</td>\n",
       "      <td>omid-reza-sarpoushi</td>\n",
       "      <td>Iran</td>\n",
       "      <td>09.03.1998.</td>\n",
       "      <td>190 cm</td>\n",
       "      <td>Goalkeeper</td>\n",
       "      <td>active</td>\n",
       "      <td>Mes Kerman</td>\n",
       "      <td>\"mes-kerman\"</td>\n",
       "      <td>Iran</td>\n",
       "      <td>Iran Premier League</td>\n",
       "      <td>NaN</td>\n",
       "    </tr>\n",
       "    <tr>\n",
       "      <th>3</th>\n",
       "      <td>3</td>\n",
       "      <td>Afshin Sadeghi</td>\n",
       "      <td>afshin-sadeghi</td>\n",
       "      <td>Iran</td>\n",
       "      <td>25.03.1993.</td>\n",
       "      <td>198 cm</td>\n",
       "      <td>Left Back</td>\n",
       "      <td>active</td>\n",
       "      <td>Sepahan</td>\n",
       "      <td>\"sepahan\"</td>\n",
       "      <td>Iran</td>\n",
       "      <td>Iran Premier League</td>\n",
       "      <td>NaN</td>\n",
       "    </tr>\n",
       "    <tr>\n",
       "      <th>4</th>\n",
       "      <td>4</td>\n",
       "      <td>Mehrdad Samsami</td>\n",
       "      <td>mehrdad-samsami</td>\n",
       "      <td>Iran</td>\n",
       "      <td>26.02.1991.</td>\n",
       "      <td>194 cm</td>\n",
       "      <td>Centre Back</td>\n",
       "      <td>active</td>\n",
       "      <td>SS Kazeroon Club</td>\n",
       "      <td>\"ss-kazeroon-club\"</td>\n",
       "      <td>Iran</td>\n",
       "      <td>Iran Premier League</td>\n",
       "      <td>NaN</td>\n",
       "    </tr>\n",
       "  </tbody>\n",
       "</table>\n",
       "</div>"
      ],
      "text/plain": [
       "   Unnamed: 0                 name          name_search nationality  \\\n",
       "0           0          Ali Kouhzad          ali-kouhzad        Iran   \n",
       "1           1   Shahab Sadeghzadeh   shahab-sadeghzadeh        Iran   \n",
       "2           2  Omid Reza Sarpoushi  omid-reza-sarpoushi        Iran   \n",
       "3           3       Afshin Sadeghi       afshin-sadeghi        Iran   \n",
       "4           4      Mehrdad Samsami      mehrdad-samsami        Iran   \n",
       "\n",
       "    birth date  height     position  status              club  \\\n",
       "0  19.12.1996.  198 cm  Line Player  active  SS Kazeroon Club   \n",
       "1  28.03.1994.  192 cm    Left Back  active           Sepahan   \n",
       "2  09.03.1998.  190 cm   Goalkeeper  active        Mes Kerman   \n",
       "3  25.03.1993.  198 cm    Left Back  active           Sepahan   \n",
       "4  26.02.1991.  194 cm  Centre Back  active  SS Kazeroon Club   \n",
       "\n",
       "          club_search country               league weight  \n",
       "0  \"ss-kazeroon-club\"    Iran  Iran Premier League    NaN  \n",
       "1           \"sepahan\"    Iran  Iran Premier League    NaN  \n",
       "2        \"mes-kerman\"    Iran  Iran Premier League    NaN  \n",
       "3           \"sepahan\"    Iran  Iran Premier League    NaN  \n",
       "4  \"ss-kazeroon-club\"    Iran  Iran Premier League    NaN  "
      ]
     },
     "execution_count": 24,
     "metadata": {},
     "output_type": "execute_result"
    }
   ],
   "source": [
    "data_players.head()"
   ]
  },
  {
   "cell_type": "code",
   "execution_count": 25,
   "metadata": {},
   "outputs": [
    {
     "name": "stdout",
     "output_type": "stream",
     "text": [
      "5835\n"
     ]
    },
    {
     "data": {
      "text/html": [
       "<div>\n",
       "<style scoped>\n",
       "    .dataframe tbody tr th:only-of-type {\n",
       "        vertical-align: middle;\n",
       "    }\n",
       "\n",
       "    .dataframe tbody tr th {\n",
       "        vertical-align: top;\n",
       "    }\n",
       "\n",
       "    .dataframe thead th {\n",
       "        text-align: right;\n",
       "    }\n",
       "</style>\n",
       "<table border=\"1\" class=\"dataframe\">\n",
       "  <thead>\n",
       "    <tr style=\"text-align: right;\">\n",
       "      <th></th>\n",
       "      <th>nombre</th>\n",
       "      <th>altura</th>\n",
       "      <th>fechaNacimiento</th>\n",
       "      <th>idNacionalidad</th>\n",
       "      <th>idEstado</th>\n",
       "    </tr>\n",
       "  </thead>\n",
       "  <tbody>\n",
       "    <tr>\n",
       "      <th>0</th>\n",
       "      <td>Ali Kouhzad</td>\n",
       "      <td>198</td>\n",
       "      <td>1996-12-19</td>\n",
       "      <td>38</td>\n",
       "      <td>1</td>\n",
       "    </tr>\n",
       "    <tr>\n",
       "      <th>1</th>\n",
       "      <td>Shahab Sadeghzadeh</td>\n",
       "      <td>192</td>\n",
       "      <td>1994-03-28</td>\n",
       "      <td>38</td>\n",
       "      <td>1</td>\n",
       "    </tr>\n",
       "    <tr>\n",
       "      <th>2</th>\n",
       "      <td>Omid Reza Sarpoushi</td>\n",
       "      <td>190</td>\n",
       "      <td>1998-03-09</td>\n",
       "      <td>38</td>\n",
       "      <td>1</td>\n",
       "    </tr>\n",
       "    <tr>\n",
       "      <th>3</th>\n",
       "      <td>Afshin Sadeghi</td>\n",
       "      <td>198</td>\n",
       "      <td>1993-03-25</td>\n",
       "      <td>38</td>\n",
       "      <td>1</td>\n",
       "    </tr>\n",
       "    <tr>\n",
       "      <th>4</th>\n",
       "      <td>Mehrdad Samsami</td>\n",
       "      <td>194</td>\n",
       "      <td>1991-02-26</td>\n",
       "      <td>38</td>\n",
       "      <td>1</td>\n",
       "    </tr>\n",
       "  </tbody>\n",
       "</table>\n",
       "</div>"
      ],
      "text/plain": [
       "                nombre altura fechaNacimiento  idNacionalidad  idEstado\n",
       "0          Ali Kouhzad    198      1996-12-19              38         1\n",
       "1   Shahab Sadeghzadeh    192      1994-03-28              38         1\n",
       "2  Omid Reza Sarpoushi    190      1998-03-09              38         1\n",
       "3       Afshin Sadeghi    198      1993-03-25              38         1\n",
       "4      Mehrdad Samsami    194      1991-02-26              38         1"
      ]
     },
     "execution_count": 25,
     "metadata": {},
     "output_type": "execute_result"
    }
   ],
   "source": [
    "data_players_2 = data_players.copy()\n",
    "data_players_2.rename(columns={'name':'nombre'}, inplace=True)\n",
    "data_players_2.height.fillna(\"185 cm\", inplace=True)\n",
    "data_players_2.rename(columns={'height':'altura'}, inplace=True)\n",
    "data_players_2.altura = data_players_2.altura.str.replace(' cm','') # .astype(float)\n",
    "data_players_2.rename(columns={'birth date':'fechaNacimiento'}, inplace=True)\n",
    "data_players_2.fechaNacimiento = data_players_2.fechaNacimiento.str[:10].str.replace('.','/')\n",
    "data_players_2['fechaNacimiento'] = data_players_2.apply(lambda row: row.fechaNacimiento[6:10] +\"-\"+ row.fechaNacimiento[3:5] +\"-\"+ row.fechaNacimiento[:2], axis=1)\n",
    "data_players_2.nationality.fillna(\"Iran\", inplace=True)\n",
    "data_players_2['idNacionalidad'] = data_players_2['nationality'].map(lambda x: dict_paises[x])\n",
    "data_players_2['idEstado'] = data_players_2['status'].map(lambda x: dict_estado[x])\n",
    "print(len(data_players_2))\n",
    "data_players_2[[\"nombre\", \"altura\", \"fechaNacimiento\", \"idNacionalidad\", \"idEstado\"]].head()"
   ]
  },
  {
   "cell_type": "code",
   "execution_count": 332,
   "metadata": {},
   "outputs": [],
   "source": [
    "# data_players_2[[\"nombre\", \"altura\", \"fechaNacimiento\", \"idNacionalidad\", \"idEstado\"]].to_csv(\"./datos_db/jugadores.csv\", encoding=\"utf-8\", index=False)\n",
    "data_players_2[[\"nombre\", \"altura\", \"fechaNacimiento\", \"idNacionalidad\", \"idEstado\"]].to_json(r\"./datos_db/jugadores.json\", orient='records')"
   ]
  },
  {
   "cell_type": "code",
   "execution_count": 26,
   "metadata": {},
   "outputs": [],
   "source": [
    "dict_jugador = {}\n",
    "for index, value in enumerate(data_players_2.nombre):\n",
    "    dict_jugador[value] = index+1"
   ]
  },
  {
   "attachments": {},
   "cell_type": "markdown",
   "metadata": {},
   "source": [
    "## JUGADORES POSICIONES"
   ]
  },
  {
   "cell_type": "code",
   "execution_count": 170,
   "metadata": {},
   "outputs": [
    {
     "data": {
      "text/html": [
       "<div>\n",
       "<style scoped>\n",
       "    .dataframe tbody tr th:only-of-type {\n",
       "        vertical-align: middle;\n",
       "    }\n",
       "\n",
       "    .dataframe tbody tr th {\n",
       "        vertical-align: top;\n",
       "    }\n",
       "\n",
       "    .dataframe thead th {\n",
       "        text-align: right;\n",
       "    }\n",
       "</style>\n",
       "<table border=\"1\" class=\"dataframe\">\n",
       "  <thead>\n",
       "    <tr style=\"text-align: right;\">\n",
       "      <th></th>\n",
       "      <th>idJugador</th>\n",
       "      <th>idPosicion</th>\n",
       "    </tr>\n",
       "  </thead>\n",
       "  <tbody>\n",
       "    <tr>\n",
       "      <th>0</th>\n",
       "      <td>1</td>\n",
       "      <td>6</td>\n",
       "    </tr>\n",
       "    <tr>\n",
       "      <th>1</th>\n",
       "      <td>2</td>\n",
       "      <td>4</td>\n",
       "    </tr>\n",
       "    <tr>\n",
       "      <th>2</th>\n",
       "      <td>3</td>\n",
       "      <td>3</td>\n",
       "    </tr>\n",
       "    <tr>\n",
       "      <th>3</th>\n",
       "      <td>4</td>\n",
       "      <td>4</td>\n",
       "    </tr>\n",
       "    <tr>\n",
       "      <th>4</th>\n",
       "      <td>5</td>\n",
       "      <td>2</td>\n",
       "    </tr>\n",
       "  </tbody>\n",
       "</table>\n",
       "</div>"
      ],
      "text/plain": [
       "   idJugador  idPosicion\n",
       "0          1           6\n",
       "1          2           4\n",
       "2          3           3\n",
       "3          4           4\n",
       "4          5           2"
      ]
     },
     "execution_count": 170,
     "metadata": {},
     "output_type": "execute_result"
    }
   ],
   "source": [
    "data_playerspositions = data_players.copy()\n",
    "data_playerspositions.reset_index(inplace=True)\n",
    "data_playerspositions.rename(columns={data_playerspositions.columns[0]:\"idJugador\"}, inplace=True)\n",
    "data_playerspositions['idJugador'] = data_playerspositions['idJugador']+1\n",
    "data_playerspositions['position'] = data_playerspositions.position.str.replace(\", No Position.\", \"\")\n",
    "data_playerspositions['position'] = data_playerspositions.position.str.replace(\".\", \"\")\n",
    "data_playerspositions['idPosicion'] = data_playerspositions['position'].map(lambda x: dict_posiciones[x])\n",
    "data_playerspositions[['idJugador', 'idPosicion']].head()"
   ]
  },
  {
   "cell_type": "code",
   "execution_count": 309,
   "metadata": {},
   "outputs": [],
   "source": [
    "# data_playerspositions[['idJugador', 'idPosicion']].to_csv(\"./datos_db/jugadoresposicion.csv\", encoding=\"utf-8\", index=False)\n",
    "data_playerspositions[['idJugador', 'idPosicion']].to_json(r\"./datos_db/jugadoresposicion.json\", orient='records')"
   ]
  },
  {
   "attachments": {},
   "cell_type": "markdown",
   "metadata": {},
   "source": [
    "## Clubes"
   ]
  },
  {
   "cell_type": "code",
   "execution_count": 35,
   "metadata": {},
   "outputs": [],
   "source": [
    "data_clubs_2 = data_clubs.loc[data_clubs.name.notnull(), ['name', 'city', 'arena', 'league']].copy().reset_index(drop=True)\n",
    "data_clubs_2.loc[len(data_clubs_2)] = ['SKKP Handball Brno', 'Prague', None, 'Strabag Rail Extraliga (Czech)']\n",
    "data_clubs_2.loc[len(data_clubs_2)] = ['Haslum HK', 'Oslo', None, 'REMA 1000-ligaen (Norway)']\n",
    "data_clubs_2.loc[len(data_clubs_2)] = ['Raimond Handball Sassari', 'Bressanone', None, 'Serie A (Italy)']\n",
    "data_clubs_2.loc[len(data_clubs_2)] = ['CSM Focșani', 'Turda', None, 'Liga Zimbrilor (Romania)']\n",
    "data_clubs_2.loc[len(data_clubs_2)] = ['RK Partizan', 'Loznica', None, 'Arkus Liga (Serbia)']\n",
    "data_clubs_2.loc[len(data_clubs_2)] = ['Montpellier Handball', 'Paris',None, 'Liqui Moly Starligue (France)']\n",
    "data_clubs_2.loc[len(data_clubs_2)] = ['HC Gomel', 'Brest', None, 'Belarusian Superleague (Belarus)']"
   ]
  },
  {
   "cell_type": "code",
   "execution_count": 36,
   "metadata": {},
   "outputs": [
    {
     "name": "stdout",
     "output_type": "stream",
     "text": [
      "964\n"
     ]
    },
    {
     "data": {
      "text/html": [
       "<div>\n",
       "<style scoped>\n",
       "    .dataframe tbody tr th:only-of-type {\n",
       "        vertical-align: middle;\n",
       "    }\n",
       "\n",
       "    .dataframe tbody tr th {\n",
       "        vertical-align: top;\n",
       "    }\n",
       "\n",
       "    .dataframe thead th {\n",
       "        text-align: right;\n",
       "    }\n",
       "</style>\n",
       "<table border=\"1\" class=\"dataframe\">\n",
       "  <thead>\n",
       "    <tr style=\"text-align: right;\">\n",
       "      <th></th>\n",
       "      <th>club</th>\n",
       "      <th>idCiudad</th>\n",
       "      <th>idArena</th>\n",
       "      <th>idLiga</th>\n",
       "    </tr>\n",
       "  </thead>\n",
       "  <tbody>\n",
       "    <tr>\n",
       "      <th>0</th>\n",
       "      <td>SK Hawks</td>\n",
       "      <td>137</td>\n",
       "      <td>125</td>\n",
       "      <td>40</td>\n",
       "    </tr>\n",
       "    <tr>\n",
       "      <th>1</th>\n",
       "      <td>Doosan</td>\n",
       "      <td>665</td>\n",
       "      <td>125</td>\n",
       "      <td>40</td>\n",
       "    </tr>\n",
       "    <tr>\n",
       "      <th>2</th>\n",
       "      <td>Incheon City</td>\n",
       "      <td>298</td>\n",
       "      <td>125</td>\n",
       "      <td>40</td>\n",
       "    </tr>\n",
       "    <tr>\n",
       "      <th>3</th>\n",
       "      <td>Chungnam</td>\n",
       "      <td>140</td>\n",
       "      <td>125</td>\n",
       "      <td>40</td>\n",
       "    </tr>\n",
       "    <tr>\n",
       "      <th>4</th>\n",
       "      <td>Sangmu Phoenix</td>\n",
       "      <td>461</td>\n",
       "      <td>125</td>\n",
       "      <td>40</td>\n",
       "    </tr>\n",
       "  </tbody>\n",
       "</table>\n",
       "</div>"
      ],
      "text/plain": [
       "             club  idCiudad  idArena  idLiga\n",
       "0        SK Hawks       137      125      40\n",
       "1         Doosan        665      125      40\n",
       "2    Incheon City       298      125      40\n",
       "3        Chungnam       140      125      40\n",
       "4  Sangmu Phoenix       461      125      40"
      ]
     },
     "execution_count": 36,
     "metadata": {},
     "output_type": "execute_result"
    }
   ],
   "source": [
    "data_clubs_2.rename(columns={'name':'club'}, inplace=True)\n",
    "data_clubs_2.city.fillna('Balingen', inplace=True)\n",
    "data_clubs_2['idCiudad'] = data_clubs_2['city'].map(lambda x: dict_ciudades[x])\n",
    "data_clubs_2.arena.fillna('Sparkassen-Arena (Balingen)', inplace=True)\n",
    "data_clubs_2['idArena'] = data_clubs_2['arena'].map(lambda x: dict_arenas[x])\n",
    "data_clubs_2.league.fillna('2.HBL (Germany)', inplace=True)\n",
    "data_clubs_2['idLiga'] = data_clubs_2['league'].map(lambda x: dict_ligas[x])\n",
    "print(len(data_clubs_2))\n",
    "data_clubs_2[[\"club\", \"idCiudad\", \"idArena\", \"idLiga\" ]].head()"
   ]
  },
  {
   "cell_type": "code",
   "execution_count": 37,
   "metadata": {},
   "outputs": [],
   "source": [
    "# data_clubs_2.to_csv(\"./datos_db/clubes.csv\", encoding='utf-8', index=False)\n",
    "data_clubs_2[[\"club\", \"idCiudad\", \"idArena\", \"idLiga\" ]].to_json(r\"./datos_db/clubes.json\", orient='records')"
   ]
  },
  {
   "cell_type": "code",
   "execution_count": 38,
   "metadata": {},
   "outputs": [],
   "source": [
    "dict_club = {}\n",
    "for index, value in enumerate(data_clubs_2.club):\n",
    "    dict_club[value] = index+1"
   ]
  },
  {
   "attachments": {},
   "cell_type": "markdown",
   "metadata": {},
   "source": [
    "## jugadoresClubes"
   ]
  },
  {
   "cell_type": "code",
   "execution_count": 106,
   "metadata": {},
   "outputs": [
    {
     "data": {
      "text/html": [
       "<div>\n",
       "<style scoped>\n",
       "    .dataframe tbody tr th:only-of-type {\n",
       "        vertical-align: middle;\n",
       "    }\n",
       "\n",
       "    .dataframe tbody tr th {\n",
       "        vertical-align: top;\n",
       "    }\n",
       "\n",
       "    .dataframe thead th {\n",
       "        text-align: right;\n",
       "    }\n",
       "</style>\n",
       "<table border=\"1\" class=\"dataframe\">\n",
       "  <thead>\n",
       "    <tr style=\"text-align: right;\">\n",
       "      <th></th>\n",
       "      <th>idJugador</th>\n",
       "      <th>idClub</th>\n",
       "      <th>actual</th>\n",
       "      <th>fechaInicio</th>\n",
       "    </tr>\n",
       "  </thead>\n",
       "  <tbody>\n",
       "    <tr>\n",
       "      <th>0</th>\n",
       "      <td>1</td>\n",
       "      <td>26</td>\n",
       "      <td>1</td>\n",
       "      <td>2020-01-01</td>\n",
       "    </tr>\n",
       "    <tr>\n",
       "      <th>1</th>\n",
       "      <td>2</td>\n",
       "      <td>24</td>\n",
       "      <td>1</td>\n",
       "      <td>2020-01-01</td>\n",
       "    </tr>\n",
       "    <tr>\n",
       "      <th>2</th>\n",
       "      <td>3</td>\n",
       "      <td>25</td>\n",
       "      <td>1</td>\n",
       "      <td>2020-01-01</td>\n",
       "    </tr>\n",
       "    <tr>\n",
       "      <th>3</th>\n",
       "      <td>4</td>\n",
       "      <td>24</td>\n",
       "      <td>1</td>\n",
       "      <td>2020-01-01</td>\n",
       "    </tr>\n",
       "    <tr>\n",
       "      <th>4</th>\n",
       "      <td>5</td>\n",
       "      <td>26</td>\n",
       "      <td>1</td>\n",
       "      <td>2020-01-01</td>\n",
       "    </tr>\n",
       "  </tbody>\n",
       "</table>\n",
       "</div>"
      ],
      "text/plain": [
       "   idJugador  idClub actual fechaInicio\n",
       "0          1      26      1  2020-01-01\n",
       "1          2      24      1  2020-01-01\n",
       "2          3      25      1  2020-01-01\n",
       "3          4      24      1  2020-01-01\n",
       "4          5      26      1  2020-01-01"
      ]
     },
     "execution_count": 106,
     "metadata": {},
     "output_type": "execute_result"
    }
   ],
   "source": [
    "data_playersclub = data_players.copy()\n",
    "data_playersclub['idJugador'] = data_playersclub['name'].map(lambda x: dict_jugador[x])\n",
    "data_playersclub.club.fillna('SS Kazeroon Club', inplace=True)\n",
    "data_playersclub['idClub'] = data_playersclub['club'].map(lambda x: dict_club[x])\n",
    "data_playersclub['actual'] = \"1\"\n",
    "data_playersclub['fechaInicio'] = \"2020-01-01\"\n",
    "data_playersclub[['idJugador', 'idClub', 'actual', 'fechaInicio']].head()"
   ]
  },
  {
   "cell_type": "code",
   "execution_count": 107,
   "metadata": {},
   "outputs": [
    {
     "data": {
      "text/html": [
       "<div>\n",
       "<style scoped>\n",
       "    .dataframe tbody tr th:only-of-type {\n",
       "        vertical-align: middle;\n",
       "    }\n",
       "\n",
       "    .dataframe tbody tr th {\n",
       "        vertical-align: top;\n",
       "    }\n",
       "\n",
       "    .dataframe thead th {\n",
       "        text-align: right;\n",
       "    }\n",
       "</style>\n",
       "<table border=\"1\" class=\"dataframe\">\n",
       "  <thead>\n",
       "    <tr style=\"text-align: right;\">\n",
       "      <th></th>\n",
       "      <th>idJugador</th>\n",
       "      <th>idClub</th>\n",
       "      <th>actual</th>\n",
       "      <th>fechaInicio</th>\n",
       "      <th>fechaFin</th>\n",
       "    </tr>\n",
       "  </thead>\n",
       "  <tbody>\n",
       "    <tr>\n",
       "      <th>0</th>\n",
       "      <td>1</td>\n",
       "      <td>148</td>\n",
       "      <td>0</td>\n",
       "      <td>2015-01-01</td>\n",
       "      <td>2020-01-01</td>\n",
       "    </tr>\n",
       "    <tr>\n",
       "      <th>1</th>\n",
       "      <td>2</td>\n",
       "      <td>329</td>\n",
       "      <td>0</td>\n",
       "      <td>2015-01-01</td>\n",
       "      <td>2020-01-01</td>\n",
       "    </tr>\n",
       "    <tr>\n",
       "      <th>2</th>\n",
       "      <td>3</td>\n",
       "      <td>841</td>\n",
       "      <td>0</td>\n",
       "      <td>2015-01-01</td>\n",
       "      <td>2020-01-01</td>\n",
       "    </tr>\n",
       "    <tr>\n",
       "      <th>3</th>\n",
       "      <td>4</td>\n",
       "      <td>850</td>\n",
       "      <td>0</td>\n",
       "      <td>2015-01-01</td>\n",
       "      <td>2020-01-01</td>\n",
       "    </tr>\n",
       "    <tr>\n",
       "      <th>4</th>\n",
       "      <td>5</td>\n",
       "      <td>960</td>\n",
       "      <td>0</td>\n",
       "      <td>2015-01-01</td>\n",
       "      <td>2020-01-01</td>\n",
       "    </tr>\n",
       "  </tbody>\n",
       "</table>\n",
       "</div>"
      ],
      "text/plain": [
       "   idJugador  idClub actual fechaInicio    fechaFin\n",
       "0          1     148      0  2015-01-01  2020-01-01\n",
       "1          2     329      0  2015-01-01  2020-01-01\n",
       "2          3     841      0  2015-01-01  2020-01-01\n",
       "3          4     850      0  2015-01-01  2020-01-01\n",
       "4          5     960      0  2015-01-01  2020-01-01"
      ]
     },
     "execution_count": 107,
     "metadata": {},
     "output_type": "execute_result"
    }
   ],
   "source": [
    "data_playersclub_2 = data_players.copy()\n",
    "data_playersclub_2['idJugador'] = data_playersclub_2['name'].map(lambda x: dict_jugador[x])\n",
    "data_playersclub_2['idClub'] = data_playersclub_2.apply(lambda row: random.randint(1,len(dict_club)), axis=1)\n",
    "data_playersclub_2['actual'] = \"0\"\n",
    "data_playersclub_2['fechaInicio'] = \"2015-01-01\"\n",
    "data_playersclub_2['fechaFin'] = \"2020-01-01\"\n",
    "data_playersclub_2[['idJugador', 'idClub', 'actual', 'fechaInicio', 'fechaFin']].head()"
   ]
  },
  {
   "cell_type": "code",
   "execution_count": 108,
   "metadata": {},
   "outputs": [],
   "source": [
    "data_playersclub_3 = data_players.copy()\n",
    "data_playersclub_3['idJugador'] = data_playersclub_3['name'].map(lambda x: dict_jugador[x])\n",
    "data_playersclub_3['idClub'] = data_playersclub_3.apply(lambda row: random.randint(1,len(dict_club)), axis=1)\n",
    "data_playersclub_3['actual'] = \"0\"\n",
    "data_playersclub_3['fechaInicio'] = \"2010-01-01\"\n",
    "data_playersclub_3['fechaFin'] = \"2015-01-01\""
   ]
  },
  {
   "cell_type": "code",
   "execution_count": 110,
   "metadata": {},
   "outputs": [
    {
     "name": "stdout",
     "output_type": "stream",
     "text": [
      "4088\n",
      "4746\n",
      "5086\n",
      "5335\n",
      "5347\n",
      "5349\n",
      "5459\n",
      "5709\n",
      "5770\n",
      "11679\n"
     ]
    },
    {
     "data": {
      "text/html": [
       "<div>\n",
       "<style scoped>\n",
       "    .dataframe tbody tr th:only-of-type {\n",
       "        vertical-align: middle;\n",
       "    }\n",
       "\n",
       "    .dataframe tbody tr th {\n",
       "        vertical-align: top;\n",
       "    }\n",
       "\n",
       "    .dataframe thead th {\n",
       "        text-align: right;\n",
       "    }\n",
       "</style>\n",
       "<table border=\"1\" class=\"dataframe\">\n",
       "  <thead>\n",
       "    <tr style=\"text-align: right;\">\n",
       "      <th></th>\n",
       "      <th>Unnamed: 0</th>\n",
       "      <th>name</th>\n",
       "      <th>name_search</th>\n",
       "      <th>nationality</th>\n",
       "      <th>birth date</th>\n",
       "      <th>height</th>\n",
       "      <th>position</th>\n",
       "      <th>status</th>\n",
       "      <th>club</th>\n",
       "      <th>club_search</th>\n",
       "      <th>country</th>\n",
       "      <th>league</th>\n",
       "      <th>weight</th>\n",
       "      <th>idJugador</th>\n",
       "      <th>idClub</th>\n",
       "      <th>actual</th>\n",
       "      <th>fechaInicio</th>\n",
       "      <th>fechaFin</th>\n",
       "    </tr>\n",
       "  </thead>\n",
       "  <tbody>\n",
       "    <tr>\n",
       "      <th>0</th>\n",
       "      <td>0</td>\n",
       "      <td>Ali Kouhzad</td>\n",
       "      <td>ali-kouhzad</td>\n",
       "      <td>Iran</td>\n",
       "      <td>19.12.1996.</td>\n",
       "      <td>198 cm</td>\n",
       "      <td>Line Player</td>\n",
       "      <td>active</td>\n",
       "      <td>SS Kazeroon Club</td>\n",
       "      <td>\"ss-kazeroon-club\"</td>\n",
       "      <td>Iran</td>\n",
       "      <td>Iran Premier League</td>\n",
       "      <td>NaN</td>\n",
       "      <td>1</td>\n",
       "      <td>148</td>\n",
       "      <td>0</td>\n",
       "      <td>2018-01-01</td>\n",
       "      <td>2020-01-01</td>\n",
       "    </tr>\n",
       "    <tr>\n",
       "      <th>1</th>\n",
       "      <td>1</td>\n",
       "      <td>Shahab Sadeghzadeh</td>\n",
       "      <td>shahab-sadeghzadeh</td>\n",
       "      <td>Iran</td>\n",
       "      <td>28.03.1994.</td>\n",
       "      <td>192 cm</td>\n",
       "      <td>Left Back</td>\n",
       "      <td>active</td>\n",
       "      <td>Sepahan</td>\n",
       "      <td>\"sepahan\"</td>\n",
       "      <td>Iran</td>\n",
       "      <td>Iran Premier League</td>\n",
       "      <td>NaN</td>\n",
       "      <td>2</td>\n",
       "      <td>329</td>\n",
       "      <td>0</td>\n",
       "      <td>2017-01-01</td>\n",
       "      <td>2020-01-01</td>\n",
       "    </tr>\n",
       "    <tr>\n",
       "      <th>2</th>\n",
       "      <td>2</td>\n",
       "      <td>Omid Reza Sarpoushi</td>\n",
       "      <td>omid-reza-sarpoushi</td>\n",
       "      <td>Iran</td>\n",
       "      <td>09.03.1998.</td>\n",
       "      <td>190 cm</td>\n",
       "      <td>Goalkeeper</td>\n",
       "      <td>active</td>\n",
       "      <td>Mes Kerman</td>\n",
       "      <td>\"mes-kerman\"</td>\n",
       "      <td>Iran</td>\n",
       "      <td>Iran Premier League</td>\n",
       "      <td>NaN</td>\n",
       "      <td>3</td>\n",
       "      <td>841</td>\n",
       "      <td>0</td>\n",
       "      <td>2019-01-01</td>\n",
       "      <td>2022-01-01</td>\n",
       "    </tr>\n",
       "    <tr>\n",
       "      <th>3</th>\n",
       "      <td>3</td>\n",
       "      <td>Afshin Sadeghi</td>\n",
       "      <td>afshin-sadeghi</td>\n",
       "      <td>Iran</td>\n",
       "      <td>25.03.1993.</td>\n",
       "      <td>198 cm</td>\n",
       "      <td>Left Back</td>\n",
       "      <td>active</td>\n",
       "      <td>Sepahan</td>\n",
       "      <td>\"sepahan\"</td>\n",
       "      <td>Iran</td>\n",
       "      <td>Iran Premier League</td>\n",
       "      <td>NaN</td>\n",
       "      <td>4</td>\n",
       "      <td>850</td>\n",
       "      <td>0</td>\n",
       "      <td>2018-01-01</td>\n",
       "      <td>2022-01-01</td>\n",
       "    </tr>\n",
       "    <tr>\n",
       "      <th>4</th>\n",
       "      <td>4</td>\n",
       "      <td>Mehrdad Samsami</td>\n",
       "      <td>mehrdad-samsami</td>\n",
       "      <td>Iran</td>\n",
       "      <td>26.02.1991.</td>\n",
       "      <td>194 cm</td>\n",
       "      <td>Centre Back</td>\n",
       "      <td>active</td>\n",
       "      <td>SS Kazeroon Club</td>\n",
       "      <td>\"ss-kazeroon-club\"</td>\n",
       "      <td>Iran</td>\n",
       "      <td>Iran Premier League</td>\n",
       "      <td>NaN</td>\n",
       "      <td>5</td>\n",
       "      <td>960</td>\n",
       "      <td>0</td>\n",
       "      <td>2015-01-01</td>\n",
       "      <td>2022-01-01</td>\n",
       "    </tr>\n",
       "  </tbody>\n",
       "</table>\n",
       "</div>"
      ],
      "text/plain": [
       "   Unnamed: 0                 name          name_search nationality  \\\n",
       "0           0          Ali Kouhzad          ali-kouhzad        Iran   \n",
       "1           1   Shahab Sadeghzadeh   shahab-sadeghzadeh        Iran   \n",
       "2           2  Omid Reza Sarpoushi  omid-reza-sarpoushi        Iran   \n",
       "3           3       Afshin Sadeghi       afshin-sadeghi        Iran   \n",
       "4           4      Mehrdad Samsami      mehrdad-samsami        Iran   \n",
       "\n",
       "    birth date  height     position  status              club  \\\n",
       "0  19.12.1996.  198 cm  Line Player  active  SS Kazeroon Club   \n",
       "1  28.03.1994.  192 cm    Left Back  active           Sepahan   \n",
       "2  09.03.1998.  190 cm   Goalkeeper  active        Mes Kerman   \n",
       "3  25.03.1993.  198 cm    Left Back  active           Sepahan   \n",
       "4  26.02.1991.  194 cm  Centre Back  active  SS Kazeroon Club   \n",
       "\n",
       "          club_search country               league weight  idJugador  idClub  \\\n",
       "0  \"ss-kazeroon-club\"    Iran  Iran Premier League    NaN          1     148   \n",
       "1           \"sepahan\"    Iran  Iran Premier League    NaN          2     329   \n",
       "2        \"mes-kerman\"    Iran  Iran Premier League    NaN          3     841   \n",
       "3           \"sepahan\"    Iran  Iran Premier League    NaN          4     850   \n",
       "4  \"ss-kazeroon-club\"    Iran  Iran Premier League    NaN          5     960   \n",
       "\n",
       "  actual fechaInicio    fechaFin  \n",
       "0      0  2018-01-01  2020-01-01  \n",
       "1      0  2017-01-01  2020-01-01  \n",
       "2      0  2019-01-01  2022-01-01  \n",
       "3      0  2018-01-01  2022-01-01  \n",
       "4      0  2015-01-01  2022-01-01  "
      ]
     },
     "execution_count": 110,
     "metadata": {},
     "output_type": "execute_result"
    }
   ],
   "source": [
    "for i in list(data_playersclub_2.loc[data_playersclub_2.status == 'active', 'idJugador']):\n",
    "    first_year = random.randint(2010,2014)\n",
    "    second_year = random.randint(2015,2019)\n",
    "    third_year = random.randint(2020,2022)\n",
    "\n",
    "    data_playersclub_3.loc[data_playersclub_3.idJugador == i, 'fechaInicio'] =  str(first_year)+\"-01-01\"\n",
    "    data_playersclub_3.loc[data_playersclub_3.idJugador == i, 'fechaFin'] =  str(second_year)+\"-01-01\"\n",
    "    data_playersclub_2.loc[data_playersclub_2.idJugador == i, 'fechaInicio'] =  str(second_year)+\"-01-01\"\n",
    "    data_playersclub_2.loc[data_playersclub_2.idJugador == i, 'fechaFin'] =  str(third_year)+\"-01-01\"\n",
    "    data_playersclub.loc[data_playersclub.idJugador == i, 'fechaInicio'] =  str(third_year)+\"-01-01\"\n",
    "\n",
    "for i in range(len(data_players_2)):\n",
    "    if data_players_2.loc[i, 'idEstado'] == 2:\n",
    "        id_jug = i+1\n",
    "        print(id_jug)\n",
    "        data_playersclub_2 = pd.concat([data_playersclub_2, data_playersclub.loc[(data_playersclub.idJugador == id_jug)]])\n",
    "        data_playersclub = data_playersclub.loc[(data_playersclub.idJugador != id_jug)]\n",
    "        data_playersclub_2.loc[(data_playersclub_2.idJugador == id_jug)&(data_playersclub_2.fechaFin.isnull()), \"actual\"] = 0\n",
    "        data_playersclub_2.loc[(data_playersclub_2.idJugador == id_jug)&(data_playersclub_2.fechaFin.isnull()), \"fechaFin\"] = \"2022-01-01\"\n",
    "\n",
    "data_playersclub_final = pd.concat([data_playersclub_2, data_playersclub_3])\n",
    "print(len(data_playersclub_final))\n",
    "data_playersclub_final.head()"
   ]
  },
  {
   "cell_type": "code",
   "execution_count": 111,
   "metadata": {},
   "outputs": [
    {
     "name": "stdout",
     "output_type": "stream",
     "text": [
      "5835\n",
      "5844\n",
      "5826\n"
     ]
    }
   ],
   "source": [
    "print(len(data_playersclub_3))\n",
    "print(len(data_playersclub_2))\n",
    "print(len(data_playersclub))"
   ]
  },
  {
   "cell_type": "code",
   "execution_count": 112,
   "metadata": {},
   "outputs": [],
   "source": [
    "# data_playersclub_final[['idJugador', 'idClub']].to_csv(\"./datos_db/jugadoresclubes.csv\", encoding=\"utf-8\", index=False)\n",
    "data_playersclub[['idJugador', 'idClub', 'actual', 'fechaInicio']].to_json(r\"./datos_db/jugadoresclubes_activos.json\", orient='records')\n",
    "data_playersclub_final[['idJugador', 'idClub', 'actual', 'fechaInicio', 'fechaFin']].to_json(r\"./datos_db/jugadoresclubes_previos.json\", orient='records')"
   ]
  },
  {
   "cell_type": "code",
   "execution_count": null,
   "metadata": {},
   "outputs": [],
   "source": []
  }
 ],
 "metadata": {
  "kernelspec": {
   "display_name": "GeoAnalysis",
   "language": "python",
   "name": "python3"
  },
  "language_info": {
   "codemirror_mode": {
    "name": "ipython",
    "version": 3
   },
   "file_extension": ".py",
   "mimetype": "text/x-python",
   "name": "python",
   "nbconvert_exporter": "python",
   "pygments_lexer": "ipython3",
   "version": "3.7.8"
  },
  "orig_nbformat": 4,
  "vscode": {
   "interpreter": {
    "hash": "76d8fbc8f8336675a1901d9de0a2c7c06ee4b86e9ca9d1443f3f5d90eeade619"
   }
  }
 },
 "nbformat": 4,
 "nbformat_minor": 2
}
